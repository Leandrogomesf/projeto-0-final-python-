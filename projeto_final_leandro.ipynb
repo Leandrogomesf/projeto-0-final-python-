{
  "nbformat": 4,
  "nbformat_minor": 0,
  "metadata": {
    "colab": {
      "provenance": []
    },
    "kernelspec": {
      "name": "python3",
      "display_name": "Python 3"
    },
    "language_info": {
      "name": "python"
    }
  },
  "cells": [
    {
      "cell_type": "markdown",
      "source": [
        "# **Você pagou a fatura?**\n",
        "#### Uma análise sobre inadimplencia de correntistas\n",
        "\n",
        "\n",
        "\n",
        "---\n",
        "\n"
      ],
      "metadata": {
        "id": "7otGqfEyZNND"
      }
    },
    {
      "cell_type": "markdown",
      "source": [
        "**Aluno**: Leandro Ferreira\n",
        "\n",
        "\n",
        "---\n",
        "\n"
      ],
      "metadata": {
        "id": "pn-NtRPAZZQq"
      }
    },
    {
      "cell_type": "markdown",
      "source": [
        "# **1. INTRODUÇÃO**\n",
        "\n",
        "---\n",
        "\n",
        "\n"
      ],
      "metadata": {
        "id": "szM5i0t8cV3G"
      }
    },
    {
      "cell_type": "markdown",
      "source": [
        "Baseado nos dados dos cliente de uma instituição bancaria, este ensaio procura obter uma possível explicação do **Por que clientes deixam de honrar com suas dívidas junto ao banco?** As variáveis que talvez nos garantam explicações independentes são de ordem discreta/numérica e categórica. Este ensaio é composto por 4 sessões. A primeira apresenta a exploração dos dados utilizando o Pandas. A segunda apresenta as transformações e limpeza realizadas na df para garantir a concisão dos dados. A terceira apresenta as visualizações mais interessantes. A quarta e última apresentam os insights com uma breve análise e proposta de resposta a pergunta que já de antemão foi apresentada.\n",
        "\n",
        "\n",
        "Foram utilizados diferentes pacotes para trabalhar na linguagem Python. São eles:"
      ],
      "metadata": {
        "id": "37XIe9SyZkdO"
      }
    },
    {
      "cell_type": "code",
      "source": [
        "import pandas as pd\n",
        "import seaborn as sns\n",
        "import matplotlib.pyplot as plt"
      ],
      "metadata": {
        "id": "KCVhL0ccZm4u"
      },
      "execution_count": null,
      "outputs": []
    },
    {
      "cell_type": "markdown",
      "source": [
        "Os dados foram carregados e foram visualizadas as 10 primeiras linhas da dataframe, a partir do seguinte código da biblioteca Pandas:"
      ],
      "metadata": {
        "id": "nY1FnoRcZqLu"
      }
    },
    {
      "cell_type": "code",
      "source": [
        "df = pd.read_csv('https://raw.githubusercontent.com/andre-marcos-perez/ebac-course-utils/develop/dataset/credito.csv', na_values='na')\n",
        "df.head(10)"
      ],
      "metadata": {
        "id": "p0achu3gZtvW"
      },
      "execution_count": null,
      "outputs": []
    },
    {
      "cell_type": "markdown",
      "source": [
        "Na df, a coluna nomeada 'default' apresenta nossa variável dependente.\n",
        "\n",
        "\n"
      ],
      "metadata": {
        "id": "4GJuJsiVgb4_"
      }
    },
    {
      "cell_type": "markdown",
      "source": [
        "##**2. EXPLORAÇÃO DOS DADOS**\n",
        "\n",
        "---\n",
        "\n",
        "\n",
        "\n"
      ],
      "metadata": {
        "id": "byzC72l7cRt3"
      }
    },
    {
      "cell_type": "markdown",
      "source": [
        "\n",
        "Nesta sessão serão realizadas asexplorações que dizem respeito à estrutura e Schema dos dados. As linhas de código usadas, são encontradas a seguir.\n"
      ],
      "metadata": {
        "id": "eU15YIxOctee"
      }
    },
    {
      "cell_type": "markdown",
      "source": [
        "##**2.1 Estrutura dos dados**"
      ],
      "metadata": {
        "id": "716dFVDtfp5_"
      }
    },
    {
      "cell_type": "markdown",
      "source": [
        "Nesta sessão, observaremos quais informaçãoesestruturais como quantidade de linhas e colunas e a proporção"
      ],
      "metadata": {
        "id": "ZGcHVBCFgPO_"
      }
    },
    {
      "cell_type": "code",
      "source": [
        "df.shape"
      ],
      "metadata": {
        "colab": {
          "base_uri": "https://localhost:8080/"
        },
        "id": "9gY9R0k_eSdP",
        "outputId": "02b71ee8-572e-4743-eb0e-cf9f54a2b985"
      },
      "execution_count": null,
      "outputs": [
        {
          "output_type": "execute_result",
          "data": {
            "text/plain": [
              "(10127, 16)"
            ]
          },
          "metadata": {},
          "execution_count": 3
        }
      ]
    },
    {
      "cell_type": "markdown",
      "source": [
        "Nossa intenção é observar a coluna 'default', na qual são apresentados os padrões de adimplencia e inadimplência, identificados como int 0 e 1 respectivamente."
      ],
      "metadata": {
        "id": "T6BWfNAeeZ73"
      }
    },
    {
      "cell_type": "code",
      "source": [
        "df[df['default'] == 0].shape"
      ],
      "metadata": {
        "colab": {
          "base_uri": "https://localhost:8080/"
        },
        "id": "WKTM7Fj2ewtO",
        "outputId": "ce5eba6a-9958-4b7b-c659-de8f628d98dd"
      },
      "execution_count": null,
      "outputs": [
        {
          "output_type": "execute_result",
          "data": {
            "text/plain": [
              "(8500, 16)"
            ]
          },
          "metadata": {},
          "execution_count": 7
        }
      ]
    },
    {
      "cell_type": "code",
      "source": [
        "df[df['default'] == 1].shape"
      ],
      "metadata": {
        "colab": {
          "base_uri": "https://localhost:8080/"
        },
        "id": "XhnECVUDe2qm",
        "outputId": "71bcf582-c918-4407-853d-5eafdc2cbdf7"
      },
      "execution_count": null,
      "outputs": [
        {
          "output_type": "execute_result",
          "data": {
            "text/plain": [
              "(1627, 16)"
            ]
          },
          "metadata": {},
          "execution_count": 6
        }
      ]
    },
    {
      "cell_type": "code",
      "source": [
        "qtd_total, _ = df.shape\n",
        "qtd_adimplentes, _ = df[df['default'] == 0].shape\n",
        "qtd_inadimplentes, _ = df[df['default'] == 1].shape"
      ],
      "metadata": {
        "id": "4U77SOfce_nH"
      },
      "execution_count": null,
      "outputs": []
    },
    {
      "cell_type": "code",
      "source": [
        "print(f\"A proporcão clientes adimplentes é de {round(100 * qtd_adimplentes / qtd_total, 2)}%\")\n",
        "print(f\"A proporcão clientes inadimplentes é de {round(100 * qtd_inadimplentes / qtd_total, 2)}%\")"
      ],
      "metadata": {
        "colab": {
          "base_uri": "https://localhost:8080/"
        },
        "id": "fvIOCd65fBqe",
        "outputId": "d767d2c6-d2ad-484f-8897-2dadae7d578e"
      },
      "execution_count": null,
      "outputs": [
        {
          "output_type": "stream",
          "name": "stdout",
          "text": [
            "A proporcão clientes adimplentes é de 83.93%\n",
            "A proporcão clientes inadimplentes é de 16.07%\n"
          ]
        }
      ]
    },
    {
      "cell_type": "markdown",
      "source": [
        "Observa-se que os dados estão desbalanceados, uma vez que o número de adimplentes é maior que o dos inadimplentes. **Insight 1:** Isto é algo positivo, pois indica que o banco pode continuar fornecendo crédito e que a maioria de seus correntistas honrará á dívida."
      ],
      "metadata": {
        "id": "64fXdS-5fKFu"
      }
    },
    {
      "cell_type": "markdown",
      "source": [
        "##**2.2 Schema**"
      ],
      "metadata": {
        "id": "8UdFowFxgIHG"
      }
    },
    {
      "cell_type": "markdown",
      "source": [
        "Nesta seção, identificamos a distribuição da proporção dos atributos de cada um dos tipos de variáveis. Identificamos as int, float e str que podem compor cada uma das colunas e se, de fato, estes tipos de variáveis fazem sentido junto ao que se pretende identificar como atributos categórico ou numéricos.\n",
        "Aqui retomamos o conceito dos tipos de variáveis da estatística quantitativas ou qualitativas. As variáveis quantitativas podem ser observadas a partir do que aqui se chama atributos numéricos, contendo `ints` ou `floats`. Já as variáveis qualitativas são chamadas de categoricas e identificadas por `str` ou `object` (este último, especificamente no Pandas).\n",
        "\n",
        "As linhas de código são apresentadas abaixo."
      ],
      "metadata": {
        "id": "ziFQBnIygM9G"
      }
    },
    {
      "cell_type": "code",
      "source": [
        "df.head(n=5)"
      ],
      "metadata": {
        "colab": {
          "base_uri": "https://localhost:8080/",
          "height": 322
        },
        "id": "rOgxb2K6ieC3",
        "outputId": "e2d60c8d-acaf-4c1f-8122-f9598f845fce"
      },
      "execution_count": null,
      "outputs": [
        {
          "output_type": "execute_result",
          "data": {
            "text/plain": [
              "          id  default  idade sexo  dependentes         escolaridade  \\\n",
              "0  768805383        0     45    M            3         ensino medio   \n",
              "1  818770008        0     49    F            5             mestrado   \n",
              "2  713982108        0     51    M            3             mestrado   \n",
              "3  769911858        0     40    F            4         ensino medio   \n",
              "4  709106358        0     40    M            3  sem educacao formal   \n",
              "\n",
              "  estado_civil   salario_anual tipo_cartao  meses_de_relacionamento  \\\n",
              "0       casado     $60K - $80K        blue                       39   \n",
              "1     solteiro  menos que $40K        blue                       44   \n",
              "2       casado    $80K - $120K        blue                       36   \n",
              "3          NaN  menos que $40K        blue                       34   \n",
              "4       casado     $60K - $80K        blue                       21   \n",
              "\n",
              "   qtd_produtos  iteracoes_12m  meses_inativo_12m limite_credito  \\\n",
              "0             5              3                  1      12.691,51   \n",
              "1             6              2                  1       8.256,96   \n",
              "2             4              0                  1       3.418,56   \n",
              "3             3              1                  4       3.313,03   \n",
              "4             5              0                  1       4.716,22   \n",
              "\n",
              "  valor_transacoes_12m  qtd_transacoes_12m  \n",
              "0             1.144,90                  42  \n",
              "1             1.291,45                  33  \n",
              "2             1.887,72                  20  \n",
              "3             1.171,56                  20  \n",
              "4               816,08                  28  "
            ],
            "text/html": [
              "\n",
              "  <div id=\"df-5a152ea2-b1ea-489a-b09e-87df79f3ec00\">\n",
              "    <div class=\"colab-df-container\">\n",
              "      <div>\n",
              "<style scoped>\n",
              "    .dataframe tbody tr th:only-of-type {\n",
              "        vertical-align: middle;\n",
              "    }\n",
              "\n",
              "    .dataframe tbody tr th {\n",
              "        vertical-align: top;\n",
              "    }\n",
              "\n",
              "    .dataframe thead th {\n",
              "        text-align: right;\n",
              "    }\n",
              "</style>\n",
              "<table border=\"1\" class=\"dataframe\">\n",
              "  <thead>\n",
              "    <tr style=\"text-align: right;\">\n",
              "      <th></th>\n",
              "      <th>id</th>\n",
              "      <th>default</th>\n",
              "      <th>idade</th>\n",
              "      <th>sexo</th>\n",
              "      <th>dependentes</th>\n",
              "      <th>escolaridade</th>\n",
              "      <th>estado_civil</th>\n",
              "      <th>salario_anual</th>\n",
              "      <th>tipo_cartao</th>\n",
              "      <th>meses_de_relacionamento</th>\n",
              "      <th>qtd_produtos</th>\n",
              "      <th>iteracoes_12m</th>\n",
              "      <th>meses_inativo_12m</th>\n",
              "      <th>limite_credito</th>\n",
              "      <th>valor_transacoes_12m</th>\n",
              "      <th>qtd_transacoes_12m</th>\n",
              "    </tr>\n",
              "  </thead>\n",
              "  <tbody>\n",
              "    <tr>\n",
              "      <th>0</th>\n",
              "      <td>768805383</td>\n",
              "      <td>0</td>\n",
              "      <td>45</td>\n",
              "      <td>M</td>\n",
              "      <td>3</td>\n",
              "      <td>ensino medio</td>\n",
              "      <td>casado</td>\n",
              "      <td>$60K - $80K</td>\n",
              "      <td>blue</td>\n",
              "      <td>39</td>\n",
              "      <td>5</td>\n",
              "      <td>3</td>\n",
              "      <td>1</td>\n",
              "      <td>12.691,51</td>\n",
              "      <td>1.144,90</td>\n",
              "      <td>42</td>\n",
              "    </tr>\n",
              "    <tr>\n",
              "      <th>1</th>\n",
              "      <td>818770008</td>\n",
              "      <td>0</td>\n",
              "      <td>49</td>\n",
              "      <td>F</td>\n",
              "      <td>5</td>\n",
              "      <td>mestrado</td>\n",
              "      <td>solteiro</td>\n",
              "      <td>menos que $40K</td>\n",
              "      <td>blue</td>\n",
              "      <td>44</td>\n",
              "      <td>6</td>\n",
              "      <td>2</td>\n",
              "      <td>1</td>\n",
              "      <td>8.256,96</td>\n",
              "      <td>1.291,45</td>\n",
              "      <td>33</td>\n",
              "    </tr>\n",
              "    <tr>\n",
              "      <th>2</th>\n",
              "      <td>713982108</td>\n",
              "      <td>0</td>\n",
              "      <td>51</td>\n",
              "      <td>M</td>\n",
              "      <td>3</td>\n",
              "      <td>mestrado</td>\n",
              "      <td>casado</td>\n",
              "      <td>$80K - $120K</td>\n",
              "      <td>blue</td>\n",
              "      <td>36</td>\n",
              "      <td>4</td>\n",
              "      <td>0</td>\n",
              "      <td>1</td>\n",
              "      <td>3.418,56</td>\n",
              "      <td>1.887,72</td>\n",
              "      <td>20</td>\n",
              "    </tr>\n",
              "    <tr>\n",
              "      <th>3</th>\n",
              "      <td>769911858</td>\n",
              "      <td>0</td>\n",
              "      <td>40</td>\n",
              "      <td>F</td>\n",
              "      <td>4</td>\n",
              "      <td>ensino medio</td>\n",
              "      <td>NaN</td>\n",
              "      <td>menos que $40K</td>\n",
              "      <td>blue</td>\n",
              "      <td>34</td>\n",
              "      <td>3</td>\n",
              "      <td>1</td>\n",
              "      <td>4</td>\n",
              "      <td>3.313,03</td>\n",
              "      <td>1.171,56</td>\n",
              "      <td>20</td>\n",
              "    </tr>\n",
              "    <tr>\n",
              "      <th>4</th>\n",
              "      <td>709106358</td>\n",
              "      <td>0</td>\n",
              "      <td>40</td>\n",
              "      <td>M</td>\n",
              "      <td>3</td>\n",
              "      <td>sem educacao formal</td>\n",
              "      <td>casado</td>\n",
              "      <td>$60K - $80K</td>\n",
              "      <td>blue</td>\n",
              "      <td>21</td>\n",
              "      <td>5</td>\n",
              "      <td>0</td>\n",
              "      <td>1</td>\n",
              "      <td>4.716,22</td>\n",
              "      <td>816,08</td>\n",
              "      <td>28</td>\n",
              "    </tr>\n",
              "  </tbody>\n",
              "</table>\n",
              "</div>\n",
              "      <button class=\"colab-df-convert\" onclick=\"convertToInteractive('df-5a152ea2-b1ea-489a-b09e-87df79f3ec00')\"\n",
              "              title=\"Convert this dataframe to an interactive table.\"\n",
              "              style=\"display:none;\">\n",
              "        \n",
              "  <svg xmlns=\"http://www.w3.org/2000/svg\" height=\"24px\"viewBox=\"0 0 24 24\"\n",
              "       width=\"24px\">\n",
              "    <path d=\"M0 0h24v24H0V0z\" fill=\"none\"/>\n",
              "    <path d=\"M18.56 5.44l.94 2.06.94-2.06 2.06-.94-2.06-.94-.94-2.06-.94 2.06-2.06.94zm-11 1L8.5 8.5l.94-2.06 2.06-.94-2.06-.94L8.5 2.5l-.94 2.06-2.06.94zm10 10l.94 2.06.94-2.06 2.06-.94-2.06-.94-.94-2.06-.94 2.06-2.06.94z\"/><path d=\"M17.41 7.96l-1.37-1.37c-.4-.4-.92-.59-1.43-.59-.52 0-1.04.2-1.43.59L10.3 9.45l-7.72 7.72c-.78.78-.78 2.05 0 2.83L4 21.41c.39.39.9.59 1.41.59.51 0 1.02-.2 1.41-.59l7.78-7.78 2.81-2.81c.8-.78.8-2.07 0-2.86zM5.41 20L4 18.59l7.72-7.72 1.47 1.35L5.41 20z\"/>\n",
              "  </svg>\n",
              "      </button>\n",
              "      \n",
              "  <style>\n",
              "    .colab-df-container {\n",
              "      display:flex;\n",
              "      flex-wrap:wrap;\n",
              "      gap: 12px;\n",
              "    }\n",
              "\n",
              "    .colab-df-convert {\n",
              "      background-color: #E8F0FE;\n",
              "      border: none;\n",
              "      border-radius: 50%;\n",
              "      cursor: pointer;\n",
              "      display: none;\n",
              "      fill: #1967D2;\n",
              "      height: 32px;\n",
              "      padding: 0 0 0 0;\n",
              "      width: 32px;\n",
              "    }\n",
              "\n",
              "    .colab-df-convert:hover {\n",
              "      background-color: #E2EBFA;\n",
              "      box-shadow: 0px 1px 2px rgba(60, 64, 67, 0.3), 0px 1px 3px 1px rgba(60, 64, 67, 0.15);\n",
              "      fill: #174EA6;\n",
              "    }\n",
              "\n",
              "    [theme=dark] .colab-df-convert {\n",
              "      background-color: #3B4455;\n",
              "      fill: #D2E3FC;\n",
              "    }\n",
              "\n",
              "    [theme=dark] .colab-df-convert:hover {\n",
              "      background-color: #434B5C;\n",
              "      box-shadow: 0px 1px 3px 1px rgba(0, 0, 0, 0.15);\n",
              "      filter: drop-shadow(0px 1px 2px rgba(0, 0, 0, 0.3));\n",
              "      fill: #FFFFFF;\n",
              "    }\n",
              "  </style>\n",
              "\n",
              "      <script>\n",
              "        const buttonEl =\n",
              "          document.querySelector('#df-5a152ea2-b1ea-489a-b09e-87df79f3ec00 button.colab-df-convert');\n",
              "        buttonEl.style.display =\n",
              "          google.colab.kernel.accessAllowed ? 'block' : 'none';\n",
              "\n",
              "        async function convertToInteractive(key) {\n",
              "          const element = document.querySelector('#df-5a152ea2-b1ea-489a-b09e-87df79f3ec00');\n",
              "          const dataTable =\n",
              "            await google.colab.kernel.invokeFunction('convertToInteractive',\n",
              "                                                     [key], {});\n",
              "          if (!dataTable) return;\n",
              "\n",
              "          const docLinkHtml = 'Like what you see? Visit the ' +\n",
              "            '<a target=\"_blank\" href=https://colab.research.google.com/notebooks/data_table.ipynb>data table notebook</a>'\n",
              "            + ' to learn more about interactive tables.';\n",
              "          element.innerHTML = '';\n",
              "          dataTable['output_type'] = 'display_data';\n",
              "          await google.colab.output.renderOutput(dataTable, element);\n",
              "          const docLink = document.createElement('div');\n",
              "          docLink.innerHTML = docLinkHtml;\n",
              "          element.appendChild(docLink);\n",
              "        }\n",
              "      </script>\n",
              "    </div>\n",
              "  </div>\n",
              "  "
            ]
          },
          "metadata": {},
          "execution_count": 10
        }
      ]
    },
    {
      "cell_type": "code",
      "source": [
        "df.dtypes #visualizamos os tipos de variáveis de cada coluna da df"
      ],
      "metadata": {
        "colab": {
          "base_uri": "https://localhost:8080/"
        },
        "id": "CzoPhJJeihfo",
        "outputId": "385b509f-11ea-4b31-fbb1-a6a0762110a6"
      },
      "execution_count": null,
      "outputs": [
        {
          "output_type": "execute_result",
          "data": {
            "text/plain": [
              "id                          int64\n",
              "default                     int64\n",
              "idade                       int64\n",
              "sexo                       object\n",
              "dependentes                 int64\n",
              "escolaridade               object\n",
              "estado_civil               object\n",
              "salario_anual              object\n",
              "tipo_cartao                object\n",
              "meses_de_relacionamento     int64\n",
              "qtd_produtos                int64\n",
              "iteracoes_12m               int64\n",
              "meses_inativo_12m           int64\n",
              "limite_credito             object\n",
              "valor_transacoes_12m       object\n",
              "qtd_transacoes_12m          int64\n",
              "dtype: object"
            ]
          },
          "metadata": {},
          "execution_count": 11
        }
      ]
    },
    {
      "cell_type": "code",
      "source": [
        "df.select_dtypes('object').describe().transpose() # identificamos os atributos categóricos"
      ],
      "metadata": {
        "colab": {
          "base_uri": "https://localhost:8080/",
          "height": 269
        },
        "id": "NgQZQl8aijL4",
        "outputId": "9ba3d5a3-9be3-4674-dbdd-7d646b6e9bfd"
      },
      "execution_count": null,
      "outputs": [
        {
          "output_type": "execute_result",
          "data": {
            "text/plain": [
              "                      count unique             top  freq\n",
              "sexo                  10127      2               F  5358\n",
              "escolaridade           8608      5        mestrado  3128\n",
              "estado_civil           9378      3          casado  4687\n",
              "salario_anual          9015      5  menos que $40K  3561\n",
              "tipo_cartao           10127      4            blue  9436\n",
              "limite_credito        10127   9272        1.438,21    11\n",
              "valor_transacoes_12m  10127  10035        3.851,51     3"
            ],
            "text/html": [
              "\n",
              "  <div id=\"df-f060c522-0355-4bf1-a1a8-a5896e6e0843\">\n",
              "    <div class=\"colab-df-container\">\n",
              "      <div>\n",
              "<style scoped>\n",
              "    .dataframe tbody tr th:only-of-type {\n",
              "        vertical-align: middle;\n",
              "    }\n",
              "\n",
              "    .dataframe tbody tr th {\n",
              "        vertical-align: top;\n",
              "    }\n",
              "\n",
              "    .dataframe thead th {\n",
              "        text-align: right;\n",
              "    }\n",
              "</style>\n",
              "<table border=\"1\" class=\"dataframe\">\n",
              "  <thead>\n",
              "    <tr style=\"text-align: right;\">\n",
              "      <th></th>\n",
              "      <th>count</th>\n",
              "      <th>unique</th>\n",
              "      <th>top</th>\n",
              "      <th>freq</th>\n",
              "    </tr>\n",
              "  </thead>\n",
              "  <tbody>\n",
              "    <tr>\n",
              "      <th>sexo</th>\n",
              "      <td>10127</td>\n",
              "      <td>2</td>\n",
              "      <td>F</td>\n",
              "      <td>5358</td>\n",
              "    </tr>\n",
              "    <tr>\n",
              "      <th>escolaridade</th>\n",
              "      <td>8608</td>\n",
              "      <td>5</td>\n",
              "      <td>mestrado</td>\n",
              "      <td>3128</td>\n",
              "    </tr>\n",
              "    <tr>\n",
              "      <th>estado_civil</th>\n",
              "      <td>9378</td>\n",
              "      <td>3</td>\n",
              "      <td>casado</td>\n",
              "      <td>4687</td>\n",
              "    </tr>\n",
              "    <tr>\n",
              "      <th>salario_anual</th>\n",
              "      <td>9015</td>\n",
              "      <td>5</td>\n",
              "      <td>menos que $40K</td>\n",
              "      <td>3561</td>\n",
              "    </tr>\n",
              "    <tr>\n",
              "      <th>tipo_cartao</th>\n",
              "      <td>10127</td>\n",
              "      <td>4</td>\n",
              "      <td>blue</td>\n",
              "      <td>9436</td>\n",
              "    </tr>\n",
              "    <tr>\n",
              "      <th>limite_credito</th>\n",
              "      <td>10127</td>\n",
              "      <td>9272</td>\n",
              "      <td>1.438,21</td>\n",
              "      <td>11</td>\n",
              "    </tr>\n",
              "    <tr>\n",
              "      <th>valor_transacoes_12m</th>\n",
              "      <td>10127</td>\n",
              "      <td>10035</td>\n",
              "      <td>3.851,51</td>\n",
              "      <td>3</td>\n",
              "    </tr>\n",
              "  </tbody>\n",
              "</table>\n",
              "</div>\n",
              "      <button class=\"colab-df-convert\" onclick=\"convertToInteractive('df-f060c522-0355-4bf1-a1a8-a5896e6e0843')\"\n",
              "              title=\"Convert this dataframe to an interactive table.\"\n",
              "              style=\"display:none;\">\n",
              "        \n",
              "  <svg xmlns=\"http://www.w3.org/2000/svg\" height=\"24px\"viewBox=\"0 0 24 24\"\n",
              "       width=\"24px\">\n",
              "    <path d=\"M0 0h24v24H0V0z\" fill=\"none\"/>\n",
              "    <path d=\"M18.56 5.44l.94 2.06.94-2.06 2.06-.94-2.06-.94-.94-2.06-.94 2.06-2.06.94zm-11 1L8.5 8.5l.94-2.06 2.06-.94-2.06-.94L8.5 2.5l-.94 2.06-2.06.94zm10 10l.94 2.06.94-2.06 2.06-.94-2.06-.94-.94-2.06-.94 2.06-2.06.94z\"/><path d=\"M17.41 7.96l-1.37-1.37c-.4-.4-.92-.59-1.43-.59-.52 0-1.04.2-1.43.59L10.3 9.45l-7.72 7.72c-.78.78-.78 2.05 0 2.83L4 21.41c.39.39.9.59 1.41.59.51 0 1.02-.2 1.41-.59l7.78-7.78 2.81-2.81c.8-.78.8-2.07 0-2.86zM5.41 20L4 18.59l7.72-7.72 1.47 1.35L5.41 20z\"/>\n",
              "  </svg>\n",
              "      </button>\n",
              "      \n",
              "  <style>\n",
              "    .colab-df-container {\n",
              "      display:flex;\n",
              "      flex-wrap:wrap;\n",
              "      gap: 12px;\n",
              "    }\n",
              "\n",
              "    .colab-df-convert {\n",
              "      background-color: #E8F0FE;\n",
              "      border: none;\n",
              "      border-radius: 50%;\n",
              "      cursor: pointer;\n",
              "      display: none;\n",
              "      fill: #1967D2;\n",
              "      height: 32px;\n",
              "      padding: 0 0 0 0;\n",
              "      width: 32px;\n",
              "    }\n",
              "\n",
              "    .colab-df-convert:hover {\n",
              "      background-color: #E2EBFA;\n",
              "      box-shadow: 0px 1px 2px rgba(60, 64, 67, 0.3), 0px 1px 3px 1px rgba(60, 64, 67, 0.15);\n",
              "      fill: #174EA6;\n",
              "    }\n",
              "\n",
              "    [theme=dark] .colab-df-convert {\n",
              "      background-color: #3B4455;\n",
              "      fill: #D2E3FC;\n",
              "    }\n",
              "\n",
              "    [theme=dark] .colab-df-convert:hover {\n",
              "      background-color: #434B5C;\n",
              "      box-shadow: 0px 1px 3px 1px rgba(0, 0, 0, 0.15);\n",
              "      filter: drop-shadow(0px 1px 2px rgba(0, 0, 0, 0.3));\n",
              "      fill: #FFFFFF;\n",
              "    }\n",
              "  </style>\n",
              "\n",
              "      <script>\n",
              "        const buttonEl =\n",
              "          document.querySelector('#df-f060c522-0355-4bf1-a1a8-a5896e6e0843 button.colab-df-convert');\n",
              "        buttonEl.style.display =\n",
              "          google.colab.kernel.accessAllowed ? 'block' : 'none';\n",
              "\n",
              "        async function convertToInteractive(key) {\n",
              "          const element = document.querySelector('#df-f060c522-0355-4bf1-a1a8-a5896e6e0843');\n",
              "          const dataTable =\n",
              "            await google.colab.kernel.invokeFunction('convertToInteractive',\n",
              "                                                     [key], {});\n",
              "          if (!dataTable) return;\n",
              "\n",
              "          const docLinkHtml = 'Like what you see? Visit the ' +\n",
              "            '<a target=\"_blank\" href=https://colab.research.google.com/notebooks/data_table.ipynb>data table notebook</a>'\n",
              "            + ' to learn more about interactive tables.';\n",
              "          element.innerHTML = '';\n",
              "          dataTable['output_type'] = 'display_data';\n",
              "          await google.colab.output.renderOutput(dataTable, element);\n",
              "          const docLink = document.createElement('div');\n",
              "          docLink.innerHTML = docLinkHtml;\n",
              "          element.appendChild(docLink);\n",
              "        }\n",
              "      </script>\n",
              "    </div>\n",
              "  </div>\n",
              "  "
            ]
          },
          "metadata": {},
          "execution_count": 12
        }
      ]
    },
    {
      "cell_type": "markdown",
      "source": [
        "As colunas `limite_credito` e `valo_transacoes_12m` parecem não fazer muito sentido serem variáveis categóricas. Portanto, parece ser necessário uma transformação de `object` para `float`. Isto será feito na próxima seção de transformação.\n",
        "\n",
        "As colunas `escolaridade, estado_civil `e ` salario_anual` parecem possuir alguma inconsistencia."
      ],
      "metadata": {
        "id": "sJwlwtdri-0X"
      }
    },
    {
      "cell_type": "code",
      "source": [
        "df.drop('id', axis=1).select_dtypes('number').describe().transpose() #identificamos os atributos numéricos"
      ],
      "metadata": {
        "colab": {
          "base_uri": "https://localhost:8080/",
          "height": 300
        },
        "id": "5b3k7GZrilG6",
        "outputId": "4857412c-4dc2-48fa-f7fa-62a119471587"
      },
      "execution_count": null,
      "outputs": [
        {
          "output_type": "execute_result",
          "data": {
            "text/plain": [
              "                           count       mean        std   min   25%   50%  \\\n",
              "default                  10127.0   0.160660   0.367235   0.0   0.0   0.0   \n",
              "idade                    10127.0  46.325960   8.016814  26.0  41.0  46.0   \n",
              "dependentes              10127.0   2.346203   1.298908   0.0   1.0   2.0   \n",
              "meses_de_relacionamento  10127.0  35.928409   7.986416  13.0  31.0  36.0   \n",
              "qtd_produtos             10127.0   3.812580   1.554408   1.0   3.0   4.0   \n",
              "iteracoes_12m            10127.0   2.455317   1.106225   0.0   2.0   2.0   \n",
              "meses_inativo_12m        10127.0   2.341167   1.010622   0.0   2.0   2.0   \n",
              "qtd_transacoes_12m       10127.0  64.858695  23.472570  10.0  45.0  67.0   \n",
              "\n",
              "                          75%    max  \n",
              "default                   0.0    1.0  \n",
              "idade                    52.0   73.0  \n",
              "dependentes               3.0    5.0  \n",
              "meses_de_relacionamento  40.0   56.0  \n",
              "qtd_produtos              5.0    6.0  \n",
              "iteracoes_12m             3.0    6.0  \n",
              "meses_inativo_12m         3.0    6.0  \n",
              "qtd_transacoes_12m       81.0  139.0  "
            ],
            "text/html": [
              "\n",
              "  <div id=\"df-ab56d5a1-8da5-4e95-b58f-78c0fef43609\">\n",
              "    <div class=\"colab-df-container\">\n",
              "      <div>\n",
              "<style scoped>\n",
              "    .dataframe tbody tr th:only-of-type {\n",
              "        vertical-align: middle;\n",
              "    }\n",
              "\n",
              "    .dataframe tbody tr th {\n",
              "        vertical-align: top;\n",
              "    }\n",
              "\n",
              "    .dataframe thead th {\n",
              "        text-align: right;\n",
              "    }\n",
              "</style>\n",
              "<table border=\"1\" class=\"dataframe\">\n",
              "  <thead>\n",
              "    <tr style=\"text-align: right;\">\n",
              "      <th></th>\n",
              "      <th>count</th>\n",
              "      <th>mean</th>\n",
              "      <th>std</th>\n",
              "      <th>min</th>\n",
              "      <th>25%</th>\n",
              "      <th>50%</th>\n",
              "      <th>75%</th>\n",
              "      <th>max</th>\n",
              "    </tr>\n",
              "  </thead>\n",
              "  <tbody>\n",
              "    <tr>\n",
              "      <th>default</th>\n",
              "      <td>10127.0</td>\n",
              "      <td>0.160660</td>\n",
              "      <td>0.367235</td>\n",
              "      <td>0.0</td>\n",
              "      <td>0.0</td>\n",
              "      <td>0.0</td>\n",
              "      <td>0.0</td>\n",
              "      <td>1.0</td>\n",
              "    </tr>\n",
              "    <tr>\n",
              "      <th>idade</th>\n",
              "      <td>10127.0</td>\n",
              "      <td>46.325960</td>\n",
              "      <td>8.016814</td>\n",
              "      <td>26.0</td>\n",
              "      <td>41.0</td>\n",
              "      <td>46.0</td>\n",
              "      <td>52.0</td>\n",
              "      <td>73.0</td>\n",
              "    </tr>\n",
              "    <tr>\n",
              "      <th>dependentes</th>\n",
              "      <td>10127.0</td>\n",
              "      <td>2.346203</td>\n",
              "      <td>1.298908</td>\n",
              "      <td>0.0</td>\n",
              "      <td>1.0</td>\n",
              "      <td>2.0</td>\n",
              "      <td>3.0</td>\n",
              "      <td>5.0</td>\n",
              "    </tr>\n",
              "    <tr>\n",
              "      <th>meses_de_relacionamento</th>\n",
              "      <td>10127.0</td>\n",
              "      <td>35.928409</td>\n",
              "      <td>7.986416</td>\n",
              "      <td>13.0</td>\n",
              "      <td>31.0</td>\n",
              "      <td>36.0</td>\n",
              "      <td>40.0</td>\n",
              "      <td>56.0</td>\n",
              "    </tr>\n",
              "    <tr>\n",
              "      <th>qtd_produtos</th>\n",
              "      <td>10127.0</td>\n",
              "      <td>3.812580</td>\n",
              "      <td>1.554408</td>\n",
              "      <td>1.0</td>\n",
              "      <td>3.0</td>\n",
              "      <td>4.0</td>\n",
              "      <td>5.0</td>\n",
              "      <td>6.0</td>\n",
              "    </tr>\n",
              "    <tr>\n",
              "      <th>iteracoes_12m</th>\n",
              "      <td>10127.0</td>\n",
              "      <td>2.455317</td>\n",
              "      <td>1.106225</td>\n",
              "      <td>0.0</td>\n",
              "      <td>2.0</td>\n",
              "      <td>2.0</td>\n",
              "      <td>3.0</td>\n",
              "      <td>6.0</td>\n",
              "    </tr>\n",
              "    <tr>\n",
              "      <th>meses_inativo_12m</th>\n",
              "      <td>10127.0</td>\n",
              "      <td>2.341167</td>\n",
              "      <td>1.010622</td>\n",
              "      <td>0.0</td>\n",
              "      <td>2.0</td>\n",
              "      <td>2.0</td>\n",
              "      <td>3.0</td>\n",
              "      <td>6.0</td>\n",
              "    </tr>\n",
              "    <tr>\n",
              "      <th>qtd_transacoes_12m</th>\n",
              "      <td>10127.0</td>\n",
              "      <td>64.858695</td>\n",
              "      <td>23.472570</td>\n",
              "      <td>10.0</td>\n",
              "      <td>45.0</td>\n",
              "      <td>67.0</td>\n",
              "      <td>81.0</td>\n",
              "      <td>139.0</td>\n",
              "    </tr>\n",
              "  </tbody>\n",
              "</table>\n",
              "</div>\n",
              "      <button class=\"colab-df-convert\" onclick=\"convertToInteractive('df-ab56d5a1-8da5-4e95-b58f-78c0fef43609')\"\n",
              "              title=\"Convert this dataframe to an interactive table.\"\n",
              "              style=\"display:none;\">\n",
              "        \n",
              "  <svg xmlns=\"http://www.w3.org/2000/svg\" height=\"24px\"viewBox=\"0 0 24 24\"\n",
              "       width=\"24px\">\n",
              "    <path d=\"M0 0h24v24H0V0z\" fill=\"none\"/>\n",
              "    <path d=\"M18.56 5.44l.94 2.06.94-2.06 2.06-.94-2.06-.94-.94-2.06-.94 2.06-2.06.94zm-11 1L8.5 8.5l.94-2.06 2.06-.94-2.06-.94L8.5 2.5l-.94 2.06-2.06.94zm10 10l.94 2.06.94-2.06 2.06-.94-2.06-.94-.94-2.06-.94 2.06-2.06.94z\"/><path d=\"M17.41 7.96l-1.37-1.37c-.4-.4-.92-.59-1.43-.59-.52 0-1.04.2-1.43.59L10.3 9.45l-7.72 7.72c-.78.78-.78 2.05 0 2.83L4 21.41c.39.39.9.59 1.41.59.51 0 1.02-.2 1.41-.59l7.78-7.78 2.81-2.81c.8-.78.8-2.07 0-2.86zM5.41 20L4 18.59l7.72-7.72 1.47 1.35L5.41 20z\"/>\n",
              "  </svg>\n",
              "      </button>\n",
              "      \n",
              "  <style>\n",
              "    .colab-df-container {\n",
              "      display:flex;\n",
              "      flex-wrap:wrap;\n",
              "      gap: 12px;\n",
              "    }\n",
              "\n",
              "    .colab-df-convert {\n",
              "      background-color: #E8F0FE;\n",
              "      border: none;\n",
              "      border-radius: 50%;\n",
              "      cursor: pointer;\n",
              "      display: none;\n",
              "      fill: #1967D2;\n",
              "      height: 32px;\n",
              "      padding: 0 0 0 0;\n",
              "      width: 32px;\n",
              "    }\n",
              "\n",
              "    .colab-df-convert:hover {\n",
              "      background-color: #E2EBFA;\n",
              "      box-shadow: 0px 1px 2px rgba(60, 64, 67, 0.3), 0px 1px 3px 1px rgba(60, 64, 67, 0.15);\n",
              "      fill: #174EA6;\n",
              "    }\n",
              "\n",
              "    [theme=dark] .colab-df-convert {\n",
              "      background-color: #3B4455;\n",
              "      fill: #D2E3FC;\n",
              "    }\n",
              "\n",
              "    [theme=dark] .colab-df-convert:hover {\n",
              "      background-color: #434B5C;\n",
              "      box-shadow: 0px 1px 3px 1px rgba(0, 0, 0, 0.15);\n",
              "      filter: drop-shadow(0px 1px 2px rgba(0, 0, 0, 0.3));\n",
              "      fill: #FFFFFF;\n",
              "    }\n",
              "  </style>\n",
              "\n",
              "      <script>\n",
              "        const buttonEl =\n",
              "          document.querySelector('#df-ab56d5a1-8da5-4e95-b58f-78c0fef43609 button.colab-df-convert');\n",
              "        buttonEl.style.display =\n",
              "          google.colab.kernel.accessAllowed ? 'block' : 'none';\n",
              "\n",
              "        async function convertToInteractive(key) {\n",
              "          const element = document.querySelector('#df-ab56d5a1-8da5-4e95-b58f-78c0fef43609');\n",
              "          const dataTable =\n",
              "            await google.colab.kernel.invokeFunction('convertToInteractive',\n",
              "                                                     [key], {});\n",
              "          if (!dataTable) return;\n",
              "\n",
              "          const docLinkHtml = 'Like what you see? Visit the ' +\n",
              "            '<a target=\"_blank\" href=https://colab.research.google.com/notebooks/data_table.ipynb>data table notebook</a>'\n",
              "            + ' to learn more about interactive tables.';\n",
              "          element.innerHTML = '';\n",
              "          dataTable['output_type'] = 'display_data';\n",
              "          await google.colab.output.renderOutput(dataTable, element);\n",
              "          const docLink = document.createElement('div');\n",
              "          docLink.innerHTML = docLinkHtml;\n",
              "          element.appendChild(docLink);\n",
              "        }\n",
              "      </script>\n",
              "    </div>\n",
              "  </div>\n",
              "  "
            ]
          },
          "metadata": {},
          "execution_count": 13
        }
      ]
    },
    {
      "cell_type": "markdown",
      "source": [
        "Nesta última tabela, todo os dados parecem fazer sentido no tipo de variável e o que se pretende observar. **Insight 2** Interessante observar que os meses de relacionamento com o banco tem uma variação entre 28% e 42%, o que indica que uma quantidade significativa de correntistas inadimplentes tem uma relação de até 4 anos com o banco."
      ],
      "metadata": {
        "id": "UEY7-385juEX"
      }
    },
    {
      "cell_type": "markdown",
      "source": [
        "## **2.3 Na e dados faltantes**"
      ],
      "metadata": {
        "id": "-tg8H_esiYbJ"
      }
    },
    {
      "cell_type": "markdown",
      "source": [
        "Aqui, identificamos os dados faltantes identificados por Na ou NaN ou demais siglas. Nesta etapa, talvez seja necessário identificar de fato em quais colunas faltam dados."
      ],
      "metadata": {
        "id": "ZjNIXjrpj_mu"
      }
    },
    {
      "cell_type": "code",
      "source": [
        "df.isna().any()"
      ],
      "metadata": {
        "colab": {
          "base_uri": "https://localhost:8080/"
        },
        "id": "A-oP3Bagkdga",
        "outputId": "fb7b0c34-5e95-4438-fecf-cc3d08fe91e8"
      },
      "execution_count": null,
      "outputs": [
        {
          "output_type": "execute_result",
          "data": {
            "text/plain": [
              "id                         False\n",
              "default                    False\n",
              "idade                      False\n",
              "sexo                       False\n",
              "dependentes                False\n",
              "escolaridade                True\n",
              "estado_civil                True\n",
              "salario_anual               True\n",
              "tipo_cartao                False\n",
              "meses_de_relacionamento    False\n",
              "qtd_produtos               False\n",
              "iteracoes_12m              False\n",
              "meses_inativo_12m          False\n",
              "limite_credito             False\n",
              "valor_transacoes_12m       False\n",
              "qtd_transacoes_12m         False\n",
              "dtype: bool"
            ]
          },
          "metadata": {},
          "execution_count": 14
        }
      ]
    },
    {
      "cell_type": "markdown",
      "source": [
        "Foi identificado que as colunas `escolaridade, estado_civil` e `salartio_anual` por obterem como resposta `TRUE`, possuem dados faltantes. O que já se suspeitava. Para identificar frequencia de dados faltantes, foi desenvolvida a função abaixo."
      ],
      "metadata": {
        "id": "gfdXlvhbkhUf"
      }
    },
    {
      "cell_type": "code",
      "source": [
        "def stats_dados_faltantes(df: pd.DataFrame) -> None:\n",
        "\n",
        "  stats_dados_faltantes = []\n",
        "  for col in df.columns:\n",
        "    if df[col].isna().any():\n",
        "      qtd, _ = df[df[col].isna()].shape\n",
        "      total, _ = df.shape\n",
        "      dict_dados_faltantes = {col: {'quantidade': qtd, \"porcentagem\": round(100 * qtd/total, 2)}}\n",
        "      stats_dados_faltantes.append(dict_dados_faltantes)\n",
        "\n",
        "  for stat in stats_dados_faltantes:\n",
        "    print(stat)"
      ],
      "metadata": {
        "id": "93n2EA9QlPPB"
      },
      "execution_count": null,
      "outputs": []
    },
    {
      "cell_type": "code",
      "source": [
        "stats_dados_faltantes(df=df)\n"
      ],
      "metadata": {
        "colab": {
          "base_uri": "https://localhost:8080/"
        },
        "id": "rJ_9UmHslVr4",
        "outputId": "0cff84a0-a036-4596-c60b-4b3071aaf957"
      },
      "execution_count": null,
      "outputs": [
        {
          "output_type": "stream",
          "name": "stdout",
          "text": [
            "{'escolaridade': {'quantidade': 1519, 'porcentagem': 15.0}}\n",
            "{'estado_civil': {'quantidade': 749, 'porcentagem': 7.4}}\n",
            "{'salario_anual': {'quantidade': 1112, 'porcentagem': 10.98}}\n"
          ]
        }
      ]
    },
    {
      "cell_type": "code",
      "source": [
        "stats_dados_faltantes(df=df[df['default'] == 0])"
      ],
      "metadata": {
        "colab": {
          "base_uri": "https://localhost:8080/"
        },
        "id": "Khcm2mv3lXjw",
        "outputId": "12ef2584-d6f5-4783-e98b-45d02cd54cdd"
      },
      "execution_count": null,
      "outputs": [
        {
          "output_type": "stream",
          "name": "stdout",
          "text": [
            "{'escolaridade': {'quantidade': 1263, 'porcentagem': 14.86}}\n",
            "{'estado_civil': {'quantidade': 620, 'porcentagem': 7.29}}\n",
            "{'salario_anual': {'quantidade': 925, 'porcentagem': 10.88}}\n"
          ]
        }
      ]
    },
    {
      "cell_type": "code",
      "source": [
        "stats_dados_faltantes(df=df[df['default'] == 1])"
      ],
      "metadata": {
        "colab": {
          "base_uri": "https://localhost:8080/"
        },
        "id": "K0JkKowxla7x",
        "outputId": "b074d6ba-a503-4a6b-ad76-470268bcfa70"
      },
      "execution_count": null,
      "outputs": [
        {
          "output_type": "stream",
          "name": "stdout",
          "text": [
            "{'escolaridade': {'quantidade': 256, 'porcentagem': 15.73}}\n",
            "{'estado_civil': {'quantidade': 129, 'porcentagem': 7.93}}\n",
            "{'salario_anual': {'quantidade': 187, 'porcentagem': 11.49}}\n"
          ]
        }
      ]
    },
    {
      "cell_type": "markdown",
      "source": [
        "Como nossa intenção é identificar a coluna **'default'** que indica a inadimplencia ou o não, fez sentido identificarmos os dados faltantes correlacionados com esta variável. O que se observou, é que:\n",
        "\n",
        "\n",
        "1.   A frequência de dados para `escolaridade` nos três resultados observados tem baixa variação. Chegando a um max de 0.8. O que pode indicar que estas linhas podem ser eliminadas sem causar grandes danos ao conjunto total e as análises posteriores.\n",
        "2.   A frequência de dados para `estado_civil`, nos três resultados, também tem baixa variação com max de 0.5, o que indica a mesma situação de antes.\n",
        "3.   Por fim, a frequencia em `salario_anual` também observa-se baixa variação de max 0.5. o que também indica a mesma situação.\n",
        "\n"
      ],
      "metadata": {
        "id": "Ai813GmClt6B"
      }
    },
    {
      "cell_type": "markdown",
      "source": [
        "Passemos para a sessão de transformação e limpeza."
      ],
      "metadata": {
        "id": "wgVKEFumpUrX"
      }
    },
    {
      "cell_type": "markdown",
      "source": [
        "# **3. DATA WRANGLING**\n",
        "\n",
        "---\n",
        "\n"
      ],
      "metadata": {
        "id": "HSQd04yHpn3I"
      }
    },
    {
      "cell_type": "markdown",
      "source": [
        "Conduziremos os processos de limpeza e modificações necessárias"
      ],
      "metadata": {
        "id": "E6mEyRVkqGji"
      }
    },
    {
      "cell_type": "markdown",
      "source": [
        "## **3. Correção do Schema**"
      ],
      "metadata": {
        "id": "fnJ9hG0iqWWn"
      }
    },
    {
      "cell_type": "code",
      "source": [
        "df[['limite_credito', 'valor_transacoes_12m']].dtypes"
      ],
      "metadata": {
        "colab": {
          "base_uri": "https://localhost:8080/"
        },
        "id": "n-mtIEyqrDiY",
        "outputId": "81e9a878-f190-4d33-a49b-b8f191d19df0"
      },
      "execution_count": null,
      "outputs": [
        {
          "output_type": "execute_result",
          "data": {
            "text/plain": [
              "limite_credito          object\n",
              "valor_transacoes_12m    object\n",
              "dtype: object"
            ]
          },
          "metadata": {},
          "execution_count": 20
        }
      ]
    },
    {
      "cell_type": "markdown",
      "source": [
        "Aqui alteramos os tipos de variáveis das colunas `limite_credito` e `valor_transacoes_12m`, para numéricas. Criamos uma função `lambda` para garantir a limpeza dos dados. Antes executamos um teste."
      ],
      "metadata": {
        "id": "TApySERlqkoZ"
      }
    },
    {
      "cell_type": "code",
      "source": [
        "fn = lambda valor: float(valor.replace(\".\", \"\").replace(\",\", \".\")) # função lambda para limpeza\n"
      ],
      "metadata": {
        "id": "ZDHzjNSKr1Rf"
      },
      "execution_count": null,
      "outputs": []
    },
    {
      "cell_type": "code",
      "source": [
        "valores_originais = ['12.691,51', '8.256,96', '3.418,56', '3.313,03', '4.716,22']\n",
        "valores_limpos = list(map(fn, valores_originais))\n",
        "\n",
        "print(valores_originais)\n",
        "print(valores_limpos)"
      ],
      "metadata": {
        "colab": {
          "base_uri": "https://localhost:8080/"
        },
        "id": "RBRQ_Mmdr_No",
        "outputId": "f5e4a718-339f-476b-f347-7b8a69b5b337"
      },
      "execution_count": null,
      "outputs": [
        {
          "output_type": "stream",
          "name": "stdout",
          "text": [
            "['12.691,51', '8.256,96', '3.418,56', '3.313,03', '4.716,22']\n",
            "[12691.51, 8256.96, 3418.56, 3313.03, 4716.22]\n"
          ]
        }
      ]
    },
    {
      "cell_type": "markdown",
      "source": [
        "Observou-se que de fato as alterações ocorreram. Agora, aplicaremos nas colunas indicadas para que os valores se tornem `floats`."
      ],
      "metadata": {
        "id": "qhQJFznYsLC4"
      }
    },
    {
      "cell_type": "code",
      "source": [
        "df['valor_transacoes_12m'] = df['valor_transacoes_12m'].apply(fn)\n",
        "df['limite_credito'] = df['limite_credito'].apply(fn)\n",
        "df.dtypes"
      ],
      "metadata": {
        "colab": {
          "base_uri": "https://localhost:8080/"
        },
        "id": "if-L1UQHsXHX",
        "outputId": "1d5368c8-9bfb-46c7-f18c-f521f94e0ba7"
      },
      "execution_count": null,
      "outputs": [
        {
          "output_type": "execute_result",
          "data": {
            "text/plain": [
              "id                           int64\n",
              "default                      int64\n",
              "idade                        int64\n",
              "sexo                        object\n",
              "dependentes                  int64\n",
              "escolaridade                object\n",
              "estado_civil                object\n",
              "salario_anual               object\n",
              "tipo_cartao                 object\n",
              "meses_de_relacionamento      int64\n",
              "qtd_produtos                 int64\n",
              "iteracoes_12m                int64\n",
              "meses_inativo_12m            int64\n",
              "limite_credito             float64\n",
              "valor_transacoes_12m       float64\n",
              "qtd_transacoes_12m           int64\n",
              "dtype: object"
            ]
          },
          "metadata": {},
          "execution_count": 23
        }
      ]
    },
    {
      "cell_type": "code",
      "source": [
        "df.select_dtypes('object').describe().transpose() # checamos se de fato as alterações ocorreram nos atributos categóricos"
      ],
      "metadata": {
        "colab": {
          "base_uri": "https://localhost:8080/",
          "height": 206
        },
        "id": "yexTjagnsVeP",
        "outputId": "e6b99ae4-2fc7-4e76-8f4e-44a408322feb"
      },
      "execution_count": null,
      "outputs": [
        {
          "output_type": "execute_result",
          "data": {
            "text/plain": [
              "               count unique             top  freq\n",
              "sexo           10127      2               F  5358\n",
              "escolaridade    8608      5        mestrado  3128\n",
              "estado_civil    9378      3          casado  4687\n",
              "salario_anual   9015      5  menos que $40K  3561\n",
              "tipo_cartao    10127      4            blue  9436"
            ],
            "text/html": [
              "\n",
              "  <div id=\"df-262807c9-0972-44d9-a2ac-e607b7be4a84\">\n",
              "    <div class=\"colab-df-container\">\n",
              "      <div>\n",
              "<style scoped>\n",
              "    .dataframe tbody tr th:only-of-type {\n",
              "        vertical-align: middle;\n",
              "    }\n",
              "\n",
              "    .dataframe tbody tr th {\n",
              "        vertical-align: top;\n",
              "    }\n",
              "\n",
              "    .dataframe thead th {\n",
              "        text-align: right;\n",
              "    }\n",
              "</style>\n",
              "<table border=\"1\" class=\"dataframe\">\n",
              "  <thead>\n",
              "    <tr style=\"text-align: right;\">\n",
              "      <th></th>\n",
              "      <th>count</th>\n",
              "      <th>unique</th>\n",
              "      <th>top</th>\n",
              "      <th>freq</th>\n",
              "    </tr>\n",
              "  </thead>\n",
              "  <tbody>\n",
              "    <tr>\n",
              "      <th>sexo</th>\n",
              "      <td>10127</td>\n",
              "      <td>2</td>\n",
              "      <td>F</td>\n",
              "      <td>5358</td>\n",
              "    </tr>\n",
              "    <tr>\n",
              "      <th>escolaridade</th>\n",
              "      <td>8608</td>\n",
              "      <td>5</td>\n",
              "      <td>mestrado</td>\n",
              "      <td>3128</td>\n",
              "    </tr>\n",
              "    <tr>\n",
              "      <th>estado_civil</th>\n",
              "      <td>9378</td>\n",
              "      <td>3</td>\n",
              "      <td>casado</td>\n",
              "      <td>4687</td>\n",
              "    </tr>\n",
              "    <tr>\n",
              "      <th>salario_anual</th>\n",
              "      <td>9015</td>\n",
              "      <td>5</td>\n",
              "      <td>menos que $40K</td>\n",
              "      <td>3561</td>\n",
              "    </tr>\n",
              "    <tr>\n",
              "      <th>tipo_cartao</th>\n",
              "      <td>10127</td>\n",
              "      <td>4</td>\n",
              "      <td>blue</td>\n",
              "      <td>9436</td>\n",
              "    </tr>\n",
              "  </tbody>\n",
              "</table>\n",
              "</div>\n",
              "      <button class=\"colab-df-convert\" onclick=\"convertToInteractive('df-262807c9-0972-44d9-a2ac-e607b7be4a84')\"\n",
              "              title=\"Convert this dataframe to an interactive table.\"\n",
              "              style=\"display:none;\">\n",
              "        \n",
              "  <svg xmlns=\"http://www.w3.org/2000/svg\" height=\"24px\"viewBox=\"0 0 24 24\"\n",
              "       width=\"24px\">\n",
              "    <path d=\"M0 0h24v24H0V0z\" fill=\"none\"/>\n",
              "    <path d=\"M18.56 5.44l.94 2.06.94-2.06 2.06-.94-2.06-.94-.94-2.06-.94 2.06-2.06.94zm-11 1L8.5 8.5l.94-2.06 2.06-.94-2.06-.94L8.5 2.5l-.94 2.06-2.06.94zm10 10l.94 2.06.94-2.06 2.06-.94-2.06-.94-.94-2.06-.94 2.06-2.06.94z\"/><path d=\"M17.41 7.96l-1.37-1.37c-.4-.4-.92-.59-1.43-.59-.52 0-1.04.2-1.43.59L10.3 9.45l-7.72 7.72c-.78.78-.78 2.05 0 2.83L4 21.41c.39.39.9.59 1.41.59.51 0 1.02-.2 1.41-.59l7.78-7.78 2.81-2.81c.8-.78.8-2.07 0-2.86zM5.41 20L4 18.59l7.72-7.72 1.47 1.35L5.41 20z\"/>\n",
              "  </svg>\n",
              "      </button>\n",
              "      \n",
              "  <style>\n",
              "    .colab-df-container {\n",
              "      display:flex;\n",
              "      flex-wrap:wrap;\n",
              "      gap: 12px;\n",
              "    }\n",
              "\n",
              "    .colab-df-convert {\n",
              "      background-color: #E8F0FE;\n",
              "      border: none;\n",
              "      border-radius: 50%;\n",
              "      cursor: pointer;\n",
              "      display: none;\n",
              "      fill: #1967D2;\n",
              "      height: 32px;\n",
              "      padding: 0 0 0 0;\n",
              "      width: 32px;\n",
              "    }\n",
              "\n",
              "    .colab-df-convert:hover {\n",
              "      background-color: #E2EBFA;\n",
              "      box-shadow: 0px 1px 2px rgba(60, 64, 67, 0.3), 0px 1px 3px 1px rgba(60, 64, 67, 0.15);\n",
              "      fill: #174EA6;\n",
              "    }\n",
              "\n",
              "    [theme=dark] .colab-df-convert {\n",
              "      background-color: #3B4455;\n",
              "      fill: #D2E3FC;\n",
              "    }\n",
              "\n",
              "    [theme=dark] .colab-df-convert:hover {\n",
              "      background-color: #434B5C;\n",
              "      box-shadow: 0px 1px 3px 1px rgba(0, 0, 0, 0.15);\n",
              "      filter: drop-shadow(0px 1px 2px rgba(0, 0, 0, 0.3));\n",
              "      fill: #FFFFFF;\n",
              "    }\n",
              "  </style>\n",
              "\n",
              "      <script>\n",
              "        const buttonEl =\n",
              "          document.querySelector('#df-262807c9-0972-44d9-a2ac-e607b7be4a84 button.colab-df-convert');\n",
              "        buttonEl.style.display =\n",
              "          google.colab.kernel.accessAllowed ? 'block' : 'none';\n",
              "\n",
              "        async function convertToInteractive(key) {\n",
              "          const element = document.querySelector('#df-262807c9-0972-44d9-a2ac-e607b7be4a84');\n",
              "          const dataTable =\n",
              "            await google.colab.kernel.invokeFunction('convertToInteractive',\n",
              "                                                     [key], {});\n",
              "          if (!dataTable) return;\n",
              "\n",
              "          const docLinkHtml = 'Like what you see? Visit the ' +\n",
              "            '<a target=\"_blank\" href=https://colab.research.google.com/notebooks/data_table.ipynb>data table notebook</a>'\n",
              "            + ' to learn more about interactive tables.';\n",
              "          element.innerHTML = '';\n",
              "          dataTable['output_type'] = 'display_data';\n",
              "          await google.colab.output.renderOutput(dataTable, element);\n",
              "          const docLink = document.createElement('div');\n",
              "          docLink.innerHTML = docLinkHtml;\n",
              "          element.appendChild(docLink);\n",
              "        }\n",
              "      </script>\n",
              "    </div>\n",
              "  </div>\n",
              "  "
            ]
          },
          "metadata": {},
          "execution_count": 24
        }
      ]
    },
    {
      "cell_type": "code",
      "source": [
        "df.drop('id', axis=1).select_dtypes('number').describe().transpose() # o mesmo é feito para os atributos numéricos"
      ],
      "metadata": {
        "colab": {
          "base_uri": "https://localhost:8080/",
          "height": 407
        },
        "id": "_9Wlmcw9svpJ",
        "outputId": "ce2a2393-beaa-4220-8045-59219b88047d"
      },
      "execution_count": null,
      "outputs": [
        {
          "output_type": "execute_result",
          "data": {
            "text/plain": [
              "                           count         mean          std      min       25%  \\\n",
              "default                  10127.0     0.160660     0.367235     0.00     0.000   \n",
              "idade                    10127.0    46.325960     8.016814    26.00    41.000   \n",
              "dependentes              10127.0     2.346203     1.298908     0.00     1.000   \n",
              "meses_de_relacionamento  10127.0    35.928409     7.986416    13.00    31.000   \n",
              "qtd_produtos             10127.0     3.812580     1.554408     1.00     3.000   \n",
              "iteracoes_12m            10127.0     2.455317     1.106225     0.00     2.000   \n",
              "meses_inativo_12m        10127.0     2.341167     1.010622     0.00     2.000   \n",
              "limite_credito           10127.0  8632.440165  9088.788041  1438.00  2555.355   \n",
              "valor_transacoes_12m     10127.0  4404.583047  3397.128078   510.16  2155.825   \n",
              "qtd_transacoes_12m       10127.0    64.858695    23.472570    10.00    45.000   \n",
              "\n",
              "                             50%        75%       max  \n",
              "default                     0.00      0.000      1.00  \n",
              "idade                      46.00     52.000     73.00  \n",
              "dependentes                 2.00      3.000      5.00  \n",
              "meses_de_relacionamento    36.00     40.000     56.00  \n",
              "qtd_produtos                4.00      5.000      6.00  \n",
              "iteracoes_12m               2.00      3.000      6.00  \n",
              "meses_inativo_12m           2.00      3.000      6.00  \n",
              "limite_credito           4549.42  11068.175  34516.99  \n",
              "valor_transacoes_12m     3899.59   4741.310  18484.93  \n",
              "qtd_transacoes_12m         67.00     81.000    139.00  "
            ],
            "text/html": [
              "\n",
              "  <div id=\"df-4bbb8903-58fa-4187-97b9-72d30a48a5e6\">\n",
              "    <div class=\"colab-df-container\">\n",
              "      <div>\n",
              "<style scoped>\n",
              "    .dataframe tbody tr th:only-of-type {\n",
              "        vertical-align: middle;\n",
              "    }\n",
              "\n",
              "    .dataframe tbody tr th {\n",
              "        vertical-align: top;\n",
              "    }\n",
              "\n",
              "    .dataframe thead th {\n",
              "        text-align: right;\n",
              "    }\n",
              "</style>\n",
              "<table border=\"1\" class=\"dataframe\">\n",
              "  <thead>\n",
              "    <tr style=\"text-align: right;\">\n",
              "      <th></th>\n",
              "      <th>count</th>\n",
              "      <th>mean</th>\n",
              "      <th>std</th>\n",
              "      <th>min</th>\n",
              "      <th>25%</th>\n",
              "      <th>50%</th>\n",
              "      <th>75%</th>\n",
              "      <th>max</th>\n",
              "    </tr>\n",
              "  </thead>\n",
              "  <tbody>\n",
              "    <tr>\n",
              "      <th>default</th>\n",
              "      <td>10127.0</td>\n",
              "      <td>0.160660</td>\n",
              "      <td>0.367235</td>\n",
              "      <td>0.00</td>\n",
              "      <td>0.000</td>\n",
              "      <td>0.00</td>\n",
              "      <td>0.000</td>\n",
              "      <td>1.00</td>\n",
              "    </tr>\n",
              "    <tr>\n",
              "      <th>idade</th>\n",
              "      <td>10127.0</td>\n",
              "      <td>46.325960</td>\n",
              "      <td>8.016814</td>\n",
              "      <td>26.00</td>\n",
              "      <td>41.000</td>\n",
              "      <td>46.00</td>\n",
              "      <td>52.000</td>\n",
              "      <td>73.00</td>\n",
              "    </tr>\n",
              "    <tr>\n",
              "      <th>dependentes</th>\n",
              "      <td>10127.0</td>\n",
              "      <td>2.346203</td>\n",
              "      <td>1.298908</td>\n",
              "      <td>0.00</td>\n",
              "      <td>1.000</td>\n",
              "      <td>2.00</td>\n",
              "      <td>3.000</td>\n",
              "      <td>5.00</td>\n",
              "    </tr>\n",
              "    <tr>\n",
              "      <th>meses_de_relacionamento</th>\n",
              "      <td>10127.0</td>\n",
              "      <td>35.928409</td>\n",
              "      <td>7.986416</td>\n",
              "      <td>13.00</td>\n",
              "      <td>31.000</td>\n",
              "      <td>36.00</td>\n",
              "      <td>40.000</td>\n",
              "      <td>56.00</td>\n",
              "    </tr>\n",
              "    <tr>\n",
              "      <th>qtd_produtos</th>\n",
              "      <td>10127.0</td>\n",
              "      <td>3.812580</td>\n",
              "      <td>1.554408</td>\n",
              "      <td>1.00</td>\n",
              "      <td>3.000</td>\n",
              "      <td>4.00</td>\n",
              "      <td>5.000</td>\n",
              "      <td>6.00</td>\n",
              "    </tr>\n",
              "    <tr>\n",
              "      <th>iteracoes_12m</th>\n",
              "      <td>10127.0</td>\n",
              "      <td>2.455317</td>\n",
              "      <td>1.106225</td>\n",
              "      <td>0.00</td>\n",
              "      <td>2.000</td>\n",
              "      <td>2.00</td>\n",
              "      <td>3.000</td>\n",
              "      <td>6.00</td>\n",
              "    </tr>\n",
              "    <tr>\n",
              "      <th>meses_inativo_12m</th>\n",
              "      <td>10127.0</td>\n",
              "      <td>2.341167</td>\n",
              "      <td>1.010622</td>\n",
              "      <td>0.00</td>\n",
              "      <td>2.000</td>\n",
              "      <td>2.00</td>\n",
              "      <td>3.000</td>\n",
              "      <td>6.00</td>\n",
              "    </tr>\n",
              "    <tr>\n",
              "      <th>limite_credito</th>\n",
              "      <td>10127.0</td>\n",
              "      <td>8632.440165</td>\n",
              "      <td>9088.788041</td>\n",
              "      <td>1438.00</td>\n",
              "      <td>2555.355</td>\n",
              "      <td>4549.42</td>\n",
              "      <td>11068.175</td>\n",
              "      <td>34516.99</td>\n",
              "    </tr>\n",
              "    <tr>\n",
              "      <th>valor_transacoes_12m</th>\n",
              "      <td>10127.0</td>\n",
              "      <td>4404.583047</td>\n",
              "      <td>3397.128078</td>\n",
              "      <td>510.16</td>\n",
              "      <td>2155.825</td>\n",
              "      <td>3899.59</td>\n",
              "      <td>4741.310</td>\n",
              "      <td>18484.93</td>\n",
              "    </tr>\n",
              "    <tr>\n",
              "      <th>qtd_transacoes_12m</th>\n",
              "      <td>10127.0</td>\n",
              "      <td>64.858695</td>\n",
              "      <td>23.472570</td>\n",
              "      <td>10.00</td>\n",
              "      <td>45.000</td>\n",
              "      <td>67.00</td>\n",
              "      <td>81.000</td>\n",
              "      <td>139.00</td>\n",
              "    </tr>\n",
              "  </tbody>\n",
              "</table>\n",
              "</div>\n",
              "      <button class=\"colab-df-convert\" onclick=\"convertToInteractive('df-4bbb8903-58fa-4187-97b9-72d30a48a5e6')\"\n",
              "              title=\"Convert this dataframe to an interactive table.\"\n",
              "              style=\"display:none;\">\n",
              "        \n",
              "  <svg xmlns=\"http://www.w3.org/2000/svg\" height=\"24px\"viewBox=\"0 0 24 24\"\n",
              "       width=\"24px\">\n",
              "    <path d=\"M0 0h24v24H0V0z\" fill=\"none\"/>\n",
              "    <path d=\"M18.56 5.44l.94 2.06.94-2.06 2.06-.94-2.06-.94-.94-2.06-.94 2.06-2.06.94zm-11 1L8.5 8.5l.94-2.06 2.06-.94-2.06-.94L8.5 2.5l-.94 2.06-2.06.94zm10 10l.94 2.06.94-2.06 2.06-.94-2.06-.94-.94-2.06-.94 2.06-2.06.94z\"/><path d=\"M17.41 7.96l-1.37-1.37c-.4-.4-.92-.59-1.43-.59-.52 0-1.04.2-1.43.59L10.3 9.45l-7.72 7.72c-.78.78-.78 2.05 0 2.83L4 21.41c.39.39.9.59 1.41.59.51 0 1.02-.2 1.41-.59l7.78-7.78 2.81-2.81c.8-.78.8-2.07 0-2.86zM5.41 20L4 18.59l7.72-7.72 1.47 1.35L5.41 20z\"/>\n",
              "  </svg>\n",
              "      </button>\n",
              "      \n",
              "  <style>\n",
              "    .colab-df-container {\n",
              "      display:flex;\n",
              "      flex-wrap:wrap;\n",
              "      gap: 12px;\n",
              "    }\n",
              "\n",
              "    .colab-df-convert {\n",
              "      background-color: #E8F0FE;\n",
              "      border: none;\n",
              "      border-radius: 50%;\n",
              "      cursor: pointer;\n",
              "      display: none;\n",
              "      fill: #1967D2;\n",
              "      height: 32px;\n",
              "      padding: 0 0 0 0;\n",
              "      width: 32px;\n",
              "    }\n",
              "\n",
              "    .colab-df-convert:hover {\n",
              "      background-color: #E2EBFA;\n",
              "      box-shadow: 0px 1px 2px rgba(60, 64, 67, 0.3), 0px 1px 3px 1px rgba(60, 64, 67, 0.15);\n",
              "      fill: #174EA6;\n",
              "    }\n",
              "\n",
              "    [theme=dark] .colab-df-convert {\n",
              "      background-color: #3B4455;\n",
              "      fill: #D2E3FC;\n",
              "    }\n",
              "\n",
              "    [theme=dark] .colab-df-convert:hover {\n",
              "      background-color: #434B5C;\n",
              "      box-shadow: 0px 1px 3px 1px rgba(0, 0, 0, 0.15);\n",
              "      filter: drop-shadow(0px 1px 2px rgba(0, 0, 0, 0.3));\n",
              "      fill: #FFFFFF;\n",
              "    }\n",
              "  </style>\n",
              "\n",
              "      <script>\n",
              "        const buttonEl =\n",
              "          document.querySelector('#df-4bbb8903-58fa-4187-97b9-72d30a48a5e6 button.colab-df-convert');\n",
              "        buttonEl.style.display =\n",
              "          google.colab.kernel.accessAllowed ? 'block' : 'none';\n",
              "\n",
              "        async function convertToInteractive(key) {\n",
              "          const element = document.querySelector('#df-4bbb8903-58fa-4187-97b9-72d30a48a5e6');\n",
              "          const dataTable =\n",
              "            await google.colab.kernel.invokeFunction('convertToInteractive',\n",
              "                                                     [key], {});\n",
              "          if (!dataTable) return;\n",
              "\n",
              "          const docLinkHtml = 'Like what you see? Visit the ' +\n",
              "            '<a target=\"_blank\" href=https://colab.research.google.com/notebooks/data_table.ipynb>data table notebook</a>'\n",
              "            + ' to learn more about interactive tables.';\n",
              "          element.innerHTML = '';\n",
              "          dataTable['output_type'] = 'display_data';\n",
              "          await google.colab.output.renderOutput(dataTable, element);\n",
              "          const docLink = document.createElement('div');\n",
              "          docLink.innerHTML = docLinkHtml;\n",
              "          element.appendChild(docLink);\n",
              "        }\n",
              "      </script>\n",
              "    </div>\n",
              "  </div>\n",
              "  "
            ]
          },
          "metadata": {},
          "execution_count": 26
        }
      ]
    },
    {
      "cell_type": "markdown",
      "source": [
        "As alterações foram realizadas com sucesso. Passemos a rmeoção de Na."
      ],
      "metadata": {
        "id": "r0yjWM75s9YP"
      }
    },
    {
      "cell_type": "markdown",
      "source": [
        "## **3.2 Remoção de Na**"
      ],
      "metadata": {
        "id": "tC_WH38CtEcg"
      }
    },
    {
      "cell_type": "markdown",
      "source": [
        "A remoção é algo simples de ser realizado a partir do código a seguir."
      ],
      "metadata": {
        "id": "QMHMmFqP_WTj"
      }
    },
    {
      "cell_type": "code",
      "source": [
        "df.dropna(inplace=True)"
      ],
      "metadata": {
        "id": "mS-jfzpF_S9U"
      },
      "execution_count": null,
      "outputs": []
    },
    {
      "cell_type": "code",
      "source": [
        "df.shape"
      ],
      "metadata": {
        "colab": {
          "base_uri": "https://localhost:8080/"
        },
        "id": "oiJKCezz_c07",
        "outputId": "b1289ee5-b59b-4567-9bd6-a7ef2183fa1f"
      },
      "execution_count": null,
      "outputs": [
        {
          "output_type": "execute_result",
          "data": {
            "text/plain": [
              "(7081, 16)"
            ]
          },
          "metadata": {},
          "execution_count": 28
        }
      ]
    },
    {
      "cell_type": "code",
      "source": [
        "df[df['default'] == 0].shape"
      ],
      "metadata": {
        "colab": {
          "base_uri": "https://localhost:8080/"
        },
        "id": "w-z8vVGa_eGc",
        "outputId": "ffbf784a-c05e-481e-e973-28dedde34774"
      },
      "execution_count": null,
      "outputs": [
        {
          "output_type": "execute_result",
          "data": {
            "text/plain": [
              "(5968, 16)"
            ]
          },
          "metadata": {},
          "execution_count": 29
        }
      ]
    },
    {
      "cell_type": "code",
      "source": [
        "df[df['default'] == 1].shape # A soma de ambas linhas dá exatamente 7081, o que garante que os Na foram removidos e a df parece estar homogeneizada"
      ],
      "metadata": {
        "colab": {
          "base_uri": "https://localhost:8080/"
        },
        "id": "6lonetFy_fH0",
        "outputId": "5672e1ca-a93a-4bad-9d54-0fd089a38c9d"
      },
      "execution_count": null,
      "outputs": [
        {
          "output_type": "execute_result",
          "data": {
            "text/plain": [
              "(1113, 16)"
            ]
          },
          "metadata": {},
          "execution_count": 30
        }
      ]
    },
    {
      "cell_type": "code",
      "source": [
        "qtd_total_novo, _ = df.shape\n",
        "qtd_adimplentes_novo, _ = df[df['default'] == 0].shape\n",
        "qtd_inadimplentes_novo, _ = df[df['default'] == 1].shape"
      ],
      "metadata": {
        "id": "VWiNPAP1_ggq"
      },
      "execution_count": null,
      "outputs": []
    },
    {
      "cell_type": "code",
      "source": [
        "print(f\"A proporcão adimplentes ativos é de {round(100 * qtd_adimplentes / qtd_total, 2)}%\")\n",
        "print(f\"A nova proporcão de clientes adimplentes é de {round(100 * qtd_adimplentes_novo / qtd_total_novo, 2)}%\")\n",
        "print(\"\")\n",
        "print(f\"A proporcão clientes inadimplentes é de {round(100 * qtd_inadimplentes / qtd_total, 2)}%\")\n",
        "print(f\"A nova proporcão de clientes inadimplentes é de {round(100 * qtd_inadimplentes_novo / qtd_total_novo, 2)}%\")"
      ],
      "metadata": {
        "colab": {
          "base_uri": "https://localhost:8080/"
        },
        "id": "6WOTeZB0_iNj",
        "outputId": "c4f8a917-3a08-4bfd-9df3-13f3a1c36d44"
      },
      "execution_count": null,
      "outputs": [
        {
          "output_type": "stream",
          "name": "stdout",
          "text": [
            "A proporcão adimplentes ativos é de 83.93%\n",
            "A nova proporcão de clientes adimplentes é de 84.28%\n",
            "\n",
            "A proporcão clientes inadimplentes é de 16.07%\n",
            "A nova proporcão de clientes inadimplentes é de 15.72%\n"
          ]
        }
      ]
    },
    {
      "cell_type": "markdown",
      "source": [
        "A variações entre as novas e originais proporções são pequenas, o que nos dá a ideia que não foram eliminados dados essenciais. \n",
        "\n",
        "Todo processo de parsing pode trazer a eliminação de dados relevantes. Na medida em que trabalha-se com uma df com mais de 7 mil linhas, fica impossível checar linha a linha sem o olho nu se perder. Portanto, estas ferramentas garantem a melhor aproximação de um resultado satisfatório de uma df homogeneizada e concisa."
      ],
      "metadata": {
        "id": "hAHvYlPe_yBk"
      }
    },
    {
      "cell_type": "markdown",
      "source": [
        "# **4. VISUALIZAÇÃO DE DADOS**\n",
        "\n",
        "---\n",
        "\n"
      ],
      "metadata": {
        "id": "8BgJu282AY46"
      }
    },
    {
      "cell_type": "markdown",
      "source": [
        "Após concluirmos as etapas fundamentais de transoformação e eliminação de dados que porventura atraplhassem as análises, passamos par a etapa de visualização dos dados. \n",
        "Selecionamos para esta etapa, somente as visualizações que de fato nos auxiliam a identificar prováveis correlações entre os atributos 'default' e os demais. Sejam eles numéricos ou categóricos.\n",
        "A partir daqui, mobilizamos os pacotes seaborn e matplotlib para nos auxiliar numa visualização satisfatória. Seguem as linhas de códigos."
      ],
      "metadata": {
        "id": "L6c7P_tcAkyi"
      }
    },
    {
      "cell_type": "code",
      "source": [
        "sns.set_style(\"whitegrid\")"
      ],
      "metadata": {
        "id": "fwPQoZk5BgUz"
      },
      "execution_count": null,
      "outputs": []
    },
    {
      "cell_type": "code",
      "source": [
        "df_adimplente = df[df['default'] == 0]"
      ],
      "metadata": {
        "id": "5XhTsXaKCDQl"
      },
      "execution_count": null,
      "outputs": []
    },
    {
      "cell_type": "code",
      "source": [
        "df_inadimplente = df[df['default'] == 1]"
      ],
      "metadata": {
        "id": "Bb0SOrJBCEqK"
      },
      "execution_count": null,
      "outputs": []
    },
    {
      "cell_type": "code",
      "source": [
        "df.select_dtypes('object').head(n=5)"
      ],
      "metadata": {
        "colab": {
          "base_uri": "https://localhost:8080/",
          "height": 206
        },
        "id": "Zw7IQhcJFRiL",
        "outputId": "5ba77d2b-193d-4593-94d6-fb8eb88fba13"
      },
      "execution_count": null,
      "outputs": [
        {
          "output_type": "execute_result",
          "data": {
            "text/plain": [
              "  sexo         escolaridade estado_civil   salario_anual tipo_cartao\n",
              "0    M         ensino medio       casado     $60K - $80K        blue\n",
              "1    F             mestrado     solteiro  menos que $40K        blue\n",
              "2    M             mestrado       casado    $80K - $120K        blue\n",
              "4    M  sem educacao formal       casado     $60K - $80K        blue\n",
              "5    M             mestrado       casado     $40K - $60K        blue"
            ],
            "text/html": [
              "\n",
              "  <div id=\"df-8b2ceecb-fd70-4a02-ac30-a6062760c233\">\n",
              "    <div class=\"colab-df-container\">\n",
              "      <div>\n",
              "<style scoped>\n",
              "    .dataframe tbody tr th:only-of-type {\n",
              "        vertical-align: middle;\n",
              "    }\n",
              "\n",
              "    .dataframe tbody tr th {\n",
              "        vertical-align: top;\n",
              "    }\n",
              "\n",
              "    .dataframe thead th {\n",
              "        text-align: right;\n",
              "    }\n",
              "</style>\n",
              "<table border=\"1\" class=\"dataframe\">\n",
              "  <thead>\n",
              "    <tr style=\"text-align: right;\">\n",
              "      <th></th>\n",
              "      <th>sexo</th>\n",
              "      <th>escolaridade</th>\n",
              "      <th>estado_civil</th>\n",
              "      <th>salario_anual</th>\n",
              "      <th>tipo_cartao</th>\n",
              "    </tr>\n",
              "  </thead>\n",
              "  <tbody>\n",
              "    <tr>\n",
              "      <th>0</th>\n",
              "      <td>M</td>\n",
              "      <td>ensino medio</td>\n",
              "      <td>casado</td>\n",
              "      <td>$60K - $80K</td>\n",
              "      <td>blue</td>\n",
              "    </tr>\n",
              "    <tr>\n",
              "      <th>1</th>\n",
              "      <td>F</td>\n",
              "      <td>mestrado</td>\n",
              "      <td>solteiro</td>\n",
              "      <td>menos que $40K</td>\n",
              "      <td>blue</td>\n",
              "    </tr>\n",
              "    <tr>\n",
              "      <th>2</th>\n",
              "      <td>M</td>\n",
              "      <td>mestrado</td>\n",
              "      <td>casado</td>\n",
              "      <td>$80K - $120K</td>\n",
              "      <td>blue</td>\n",
              "    </tr>\n",
              "    <tr>\n",
              "      <th>4</th>\n",
              "      <td>M</td>\n",
              "      <td>sem educacao formal</td>\n",
              "      <td>casado</td>\n",
              "      <td>$60K - $80K</td>\n",
              "      <td>blue</td>\n",
              "    </tr>\n",
              "    <tr>\n",
              "      <th>5</th>\n",
              "      <td>M</td>\n",
              "      <td>mestrado</td>\n",
              "      <td>casado</td>\n",
              "      <td>$40K - $60K</td>\n",
              "      <td>blue</td>\n",
              "    </tr>\n",
              "  </tbody>\n",
              "</table>\n",
              "</div>\n",
              "      <button class=\"colab-df-convert\" onclick=\"convertToInteractive('df-8b2ceecb-fd70-4a02-ac30-a6062760c233')\"\n",
              "              title=\"Convert this dataframe to an interactive table.\"\n",
              "              style=\"display:none;\">\n",
              "        \n",
              "  <svg xmlns=\"http://www.w3.org/2000/svg\" height=\"24px\"viewBox=\"0 0 24 24\"\n",
              "       width=\"24px\">\n",
              "    <path d=\"M0 0h24v24H0V0z\" fill=\"none\"/>\n",
              "    <path d=\"M18.56 5.44l.94 2.06.94-2.06 2.06-.94-2.06-.94-.94-2.06-.94 2.06-2.06.94zm-11 1L8.5 8.5l.94-2.06 2.06-.94-2.06-.94L8.5 2.5l-.94 2.06-2.06.94zm10 10l.94 2.06.94-2.06 2.06-.94-2.06-.94-.94-2.06-.94 2.06-2.06.94z\"/><path d=\"M17.41 7.96l-1.37-1.37c-.4-.4-.92-.59-1.43-.59-.52 0-1.04.2-1.43.59L10.3 9.45l-7.72 7.72c-.78.78-.78 2.05 0 2.83L4 21.41c.39.39.9.59 1.41.59.51 0 1.02-.2 1.41-.59l7.78-7.78 2.81-2.81c.8-.78.8-2.07 0-2.86zM5.41 20L4 18.59l7.72-7.72 1.47 1.35L5.41 20z\"/>\n",
              "  </svg>\n",
              "      </button>\n",
              "      \n",
              "  <style>\n",
              "    .colab-df-container {\n",
              "      display:flex;\n",
              "      flex-wrap:wrap;\n",
              "      gap: 12px;\n",
              "    }\n",
              "\n",
              "    .colab-df-convert {\n",
              "      background-color: #E8F0FE;\n",
              "      border: none;\n",
              "      border-radius: 50%;\n",
              "      cursor: pointer;\n",
              "      display: none;\n",
              "      fill: #1967D2;\n",
              "      height: 32px;\n",
              "      padding: 0 0 0 0;\n",
              "      width: 32px;\n",
              "    }\n",
              "\n",
              "    .colab-df-convert:hover {\n",
              "      background-color: #E2EBFA;\n",
              "      box-shadow: 0px 1px 2px rgba(60, 64, 67, 0.3), 0px 1px 3px 1px rgba(60, 64, 67, 0.15);\n",
              "      fill: #174EA6;\n",
              "    }\n",
              "\n",
              "    [theme=dark] .colab-df-convert {\n",
              "      background-color: #3B4455;\n",
              "      fill: #D2E3FC;\n",
              "    }\n",
              "\n",
              "    [theme=dark] .colab-df-convert:hover {\n",
              "      background-color: #434B5C;\n",
              "      box-shadow: 0px 1px 3px 1px rgba(0, 0, 0, 0.15);\n",
              "      filter: drop-shadow(0px 1px 2px rgba(0, 0, 0, 0.3));\n",
              "      fill: #FFFFFF;\n",
              "    }\n",
              "  </style>\n",
              "\n",
              "      <script>\n",
              "        const buttonEl =\n",
              "          document.querySelector('#df-8b2ceecb-fd70-4a02-ac30-a6062760c233 button.colab-df-convert');\n",
              "        buttonEl.style.display =\n",
              "          google.colab.kernel.accessAllowed ? 'block' : 'none';\n",
              "\n",
              "        async function convertToInteractive(key) {\n",
              "          const element = document.querySelector('#df-8b2ceecb-fd70-4a02-ac30-a6062760c233');\n",
              "          const dataTable =\n",
              "            await google.colab.kernel.invokeFunction('convertToInteractive',\n",
              "                                                     [key], {});\n",
              "          if (!dataTable) return;\n",
              "\n",
              "          const docLinkHtml = 'Like what you see? Visit the ' +\n",
              "            '<a target=\"_blank\" href=https://colab.research.google.com/notebooks/data_table.ipynb>data table notebook</a>'\n",
              "            + ' to learn more about interactive tables.';\n",
              "          element.innerHTML = '';\n",
              "          dataTable['output_type'] = 'display_data';\n",
              "          await google.colab.output.renderOutput(dataTable, element);\n",
              "          const docLink = document.createElement('div');\n",
              "          docLink.innerHTML = docLinkHtml;\n",
              "          element.appendChild(docLink);\n",
              "        }\n",
              "      </script>\n",
              "    </div>\n",
              "  </div>\n",
              "  "
            ]
          },
          "metadata": {},
          "execution_count": 38
        }
      ]
    },
    {
      "cell_type": "markdown",
      "source": [
        "Após rodar atributos categóricas com relação a contagem de incidência de cada categoria de uma variável. Verificou-se que estas não apontam para conclusões que podem trazer insisghts valiosos. **Insight 3** isto por si só se apresenta enquanto um insight valioso. Significa que as variáveis `escolaridade, estado_civil, salario_anual` e `tipo_cartao` apresentam pouca ou nenhum relevancia no comportamento inadimplente dos correntistas do banco. Para não estender este notebook, optamos por não apresentar estas linhas de código ou mesmo os gráficos referentes. Seguimos para os atributos numéricas."
      ],
      "metadata": {
        "id": "HJcR7i6dGDYE"
      }
    },
    {
      "cell_type": "code",
      "source": [
        "df.drop(['id', 'default'], axis=1).select_dtypes('number').head(n=5)"
      ],
      "metadata": {
        "colab": {
          "base_uri": "https://localhost:8080/",
          "height": 270
        },
        "id": "l1oJBOHZHuKb",
        "outputId": "07b3478f-ab31-47af-ebdb-ce58460a4dde"
      },
      "execution_count": null,
      "outputs": [
        {
          "output_type": "execute_result",
          "data": {
            "text/plain": [
              "   idade  dependentes  meses_de_relacionamento  qtd_produtos  iteracoes_12m  \\\n",
              "0     45            3                       39             5              3   \n",
              "1     49            5                       44             6              2   \n",
              "2     51            3                       36             4              0   \n",
              "4     40            3                       21             5              0   \n",
              "5     44            2                       36             3              2   \n",
              "\n",
              "   meses_inativo_12m  limite_credito  valor_transacoes_12m  qtd_transacoes_12m  \n",
              "0                  1        12691.51               1144.90                  42  \n",
              "1                  1         8256.96               1291.45                  33  \n",
              "2                  1         3418.56               1887.72                  20  \n",
              "4                  1         4716.22                816.08                  28  \n",
              "5                  1         4010.69               1088.07                  24  "
            ],
            "text/html": [
              "\n",
              "  <div id=\"df-73ae9efb-cef7-4564-95b2-73d87b25d9ed\">\n",
              "    <div class=\"colab-df-container\">\n",
              "      <div>\n",
              "<style scoped>\n",
              "    .dataframe tbody tr th:only-of-type {\n",
              "        vertical-align: middle;\n",
              "    }\n",
              "\n",
              "    .dataframe tbody tr th {\n",
              "        vertical-align: top;\n",
              "    }\n",
              "\n",
              "    .dataframe thead th {\n",
              "        text-align: right;\n",
              "    }\n",
              "</style>\n",
              "<table border=\"1\" class=\"dataframe\">\n",
              "  <thead>\n",
              "    <tr style=\"text-align: right;\">\n",
              "      <th></th>\n",
              "      <th>idade</th>\n",
              "      <th>dependentes</th>\n",
              "      <th>meses_de_relacionamento</th>\n",
              "      <th>qtd_produtos</th>\n",
              "      <th>iteracoes_12m</th>\n",
              "      <th>meses_inativo_12m</th>\n",
              "      <th>limite_credito</th>\n",
              "      <th>valor_transacoes_12m</th>\n",
              "      <th>qtd_transacoes_12m</th>\n",
              "    </tr>\n",
              "  </thead>\n",
              "  <tbody>\n",
              "    <tr>\n",
              "      <th>0</th>\n",
              "      <td>45</td>\n",
              "      <td>3</td>\n",
              "      <td>39</td>\n",
              "      <td>5</td>\n",
              "      <td>3</td>\n",
              "      <td>1</td>\n",
              "      <td>12691.51</td>\n",
              "      <td>1144.90</td>\n",
              "      <td>42</td>\n",
              "    </tr>\n",
              "    <tr>\n",
              "      <th>1</th>\n",
              "      <td>49</td>\n",
              "      <td>5</td>\n",
              "      <td>44</td>\n",
              "      <td>6</td>\n",
              "      <td>2</td>\n",
              "      <td>1</td>\n",
              "      <td>8256.96</td>\n",
              "      <td>1291.45</td>\n",
              "      <td>33</td>\n",
              "    </tr>\n",
              "    <tr>\n",
              "      <th>2</th>\n",
              "      <td>51</td>\n",
              "      <td>3</td>\n",
              "      <td>36</td>\n",
              "      <td>4</td>\n",
              "      <td>0</td>\n",
              "      <td>1</td>\n",
              "      <td>3418.56</td>\n",
              "      <td>1887.72</td>\n",
              "      <td>20</td>\n",
              "    </tr>\n",
              "    <tr>\n",
              "      <th>4</th>\n",
              "      <td>40</td>\n",
              "      <td>3</td>\n",
              "      <td>21</td>\n",
              "      <td>5</td>\n",
              "      <td>0</td>\n",
              "      <td>1</td>\n",
              "      <td>4716.22</td>\n",
              "      <td>816.08</td>\n",
              "      <td>28</td>\n",
              "    </tr>\n",
              "    <tr>\n",
              "      <th>5</th>\n",
              "      <td>44</td>\n",
              "      <td>2</td>\n",
              "      <td>36</td>\n",
              "      <td>3</td>\n",
              "      <td>2</td>\n",
              "      <td>1</td>\n",
              "      <td>4010.69</td>\n",
              "      <td>1088.07</td>\n",
              "      <td>24</td>\n",
              "    </tr>\n",
              "  </tbody>\n",
              "</table>\n",
              "</div>\n",
              "      <button class=\"colab-df-convert\" onclick=\"convertToInteractive('df-73ae9efb-cef7-4564-95b2-73d87b25d9ed')\"\n",
              "              title=\"Convert this dataframe to an interactive table.\"\n",
              "              style=\"display:none;\">\n",
              "        \n",
              "  <svg xmlns=\"http://www.w3.org/2000/svg\" height=\"24px\"viewBox=\"0 0 24 24\"\n",
              "       width=\"24px\">\n",
              "    <path d=\"M0 0h24v24H0V0z\" fill=\"none\"/>\n",
              "    <path d=\"M18.56 5.44l.94 2.06.94-2.06 2.06-.94-2.06-.94-.94-2.06-.94 2.06-2.06.94zm-11 1L8.5 8.5l.94-2.06 2.06-.94-2.06-.94L8.5 2.5l-.94 2.06-2.06.94zm10 10l.94 2.06.94-2.06 2.06-.94-2.06-.94-.94-2.06-.94 2.06-2.06.94z\"/><path d=\"M17.41 7.96l-1.37-1.37c-.4-.4-.92-.59-1.43-.59-.52 0-1.04.2-1.43.59L10.3 9.45l-7.72 7.72c-.78.78-.78 2.05 0 2.83L4 21.41c.39.39.9.59 1.41.59.51 0 1.02-.2 1.41-.59l7.78-7.78 2.81-2.81c.8-.78.8-2.07 0-2.86zM5.41 20L4 18.59l7.72-7.72 1.47 1.35L5.41 20z\"/>\n",
              "  </svg>\n",
              "      </button>\n",
              "      \n",
              "  <style>\n",
              "    .colab-df-container {\n",
              "      display:flex;\n",
              "      flex-wrap:wrap;\n",
              "      gap: 12px;\n",
              "    }\n",
              "\n",
              "    .colab-df-convert {\n",
              "      background-color: #E8F0FE;\n",
              "      border: none;\n",
              "      border-radius: 50%;\n",
              "      cursor: pointer;\n",
              "      display: none;\n",
              "      fill: #1967D2;\n",
              "      height: 32px;\n",
              "      padding: 0 0 0 0;\n",
              "      width: 32px;\n",
              "    }\n",
              "\n",
              "    .colab-df-convert:hover {\n",
              "      background-color: #E2EBFA;\n",
              "      box-shadow: 0px 1px 2px rgba(60, 64, 67, 0.3), 0px 1px 3px 1px rgba(60, 64, 67, 0.15);\n",
              "      fill: #174EA6;\n",
              "    }\n",
              "\n",
              "    [theme=dark] .colab-df-convert {\n",
              "      background-color: #3B4455;\n",
              "      fill: #D2E3FC;\n",
              "    }\n",
              "\n",
              "    [theme=dark] .colab-df-convert:hover {\n",
              "      background-color: #434B5C;\n",
              "      box-shadow: 0px 1px 3px 1px rgba(0, 0, 0, 0.15);\n",
              "      filter: drop-shadow(0px 1px 2px rgba(0, 0, 0, 0.3));\n",
              "      fill: #FFFFFF;\n",
              "    }\n",
              "  </style>\n",
              "\n",
              "      <script>\n",
              "        const buttonEl =\n",
              "          document.querySelector('#df-73ae9efb-cef7-4564-95b2-73d87b25d9ed button.colab-df-convert');\n",
              "        buttonEl.style.display =\n",
              "          google.colab.kernel.accessAllowed ? 'block' : 'none';\n",
              "\n",
              "        async function convertToInteractive(key) {\n",
              "          const element = document.querySelector('#df-73ae9efb-cef7-4564-95b2-73d87b25d9ed');\n",
              "          const dataTable =\n",
              "            await google.colab.kernel.invokeFunction('convertToInteractive',\n",
              "                                                     [key], {});\n",
              "          if (!dataTable) return;\n",
              "\n",
              "          const docLinkHtml = 'Like what you see? Visit the ' +\n",
              "            '<a target=\"_blank\" href=https://colab.research.google.com/notebooks/data_table.ipynb>data table notebook</a>'\n",
              "            + ' to learn more about interactive tables.';\n",
              "          element.innerHTML = '';\n",
              "          dataTable['output_type'] = 'display_data';\n",
              "          await google.colab.output.renderOutput(dataTable, element);\n",
              "          const docLink = document.createElement('div');\n",
              "          docLink.innerHTML = docLinkHtml;\n",
              "          element.appendChild(docLink);\n",
              "        }\n",
              "      </script>\n",
              "    </div>\n",
              "  </div>\n",
              "  "
            ]
          },
          "metadata": {},
          "execution_count": 40
        }
      ]
    },
    {
      "cell_type": "markdown",
      "source": [
        "*   Quantidade de transações nos últimos 12 meses\n",
        "\n"
      ],
      "metadata": {
        "id": "wuNfdmXtH29z"
      }
    },
    {
      "cell_type": "code",
      "source": [
        "coluna = 'qtd_transacoes_12m'\n",
        "titulos = ['Qtd. de Transações no Último Ano', 'Qtd. de Transações no Último Ano de Adimplentes', 'Qtd. de Transações no Último Ano de Inadimplentes']\n",
        "\n",
        "eixo = 0\n",
        "max_y = 0\n",
        "figura, eixos = plt.subplots(1,3, figsize=(20, 5), sharex=True)\n",
        "\n",
        "for dataframe in [df, df_adimplente, df_inadimplente]:\n",
        "\n",
        "  f = sns.histplot(x=coluna, data=dataframe, stat='count', ax=eixos[eixo])\n",
        "  f.set(title=titulos[eixo], xlabel=coluna.capitalize(), ylabel='Frequência Absoluta')\n",
        "\n",
        "  _, max_y_f = f.get_ylim()\n",
        "  max_y = max_y_f if max_y_f > max_y else max_y\n",
        "  f.set(ylim=(0, max_y))\n",
        "\n",
        "  eixo += 1\n",
        "\n",
        "figura.show()"
      ],
      "metadata": {
        "colab": {
          "base_uri": "https://localhost:8080/",
          "height": 258
        },
        "id": "Oyg-Pg7JH1FM",
        "outputId": "9655aa91-d1a5-478c-869e-02b6c4408eb3"
      },
      "execution_count": null,
      "outputs": [
        {
          "output_type": "display_data",
          "data": {
            "text/plain": [
              "<Figure size 2000x500 with 3 Axes>"
            ],
            "image/png": "[encoded data removed]"
          },
          "metadata": {}
        }
      ]
    },
    {
      "cell_type": "markdown",
      "source": [
        " - Valor das Transações nos Últimos 12 Meses"
      ],
      "metadata": {
        "id": "7Q_oEJ2VIP3D"
      }
    },
    {
      "cell_type": "code",
      "source": [
        "coluna = 'valor_transacoes_12m'\n",
        "titulos = ['Valor das Transações no Último Ano', 'Valor das Transações no Último Ano de Adimplentes', 'Valor das Transações no Último Ano de Inadimplentes']\n",
        "\n",
        "eixo = 0\n",
        "max_y = 0\n",
        "figura, eixos = plt.subplots(1,3, figsize=(20, 5), sharex=True)\n",
        "\n",
        "for dataframe in [df, df_adimplente, df_inadimplente]:\n",
        "\n",
        "  f = sns.histplot(x=coluna, data=dataframe, stat='count', ax=eixos[eixo])\n",
        "  f.set(title=titulos[eixo], xlabel=coluna.capitalize(), ylabel='Frequência Absoluta')\n",
        "\n",
        "  _, max_y_f = f.get_ylim()\n",
        "  max_y = max_y_f if max_y_f > max_y else max_y\n",
        "  f.set(ylim=(0, max_y))\n",
        "\n",
        "  eixo += 1\n",
        "\n",
        "figura.show()"
      ],
      "metadata": {
        "colab": {
          "base_uri": "https://localhost:8080/",
          "height": 260
        },
        "id": "-CXcmum0IWMb",
        "outputId": "7bb1b197-256f-44b8-baf6-57887a65658e"
      },
      "execution_count": null,
      "outputs": [
        {
          "output_type": "display_data",
          "data": {
            "text/plain": [
              "<Figure size 2000x500 with 3 Axes>"
            ],
            "image/png": "[encoded data removed]"
          },
          "metadata": {}
        }
      ]
    },
    {
      "cell_type": "markdown",
      "source": [
        "Após visualizar todos os gráfico e alterando somente a variável independente, foi possível observar que os únicos atributos que têm alguma correlação e causalidade com a inadimplência dos clientes são: *Valor das Transações nos Últimos 12 Meses* e *Quantidade de transações nos últimos 12 meses*. \n",
        "\n",
        "Portanto, como forma de identificar melhor a correlação entre estes atributos, foi plotado um gráfico de pontos a partir do código que segue abaixo."
      ],
      "metadata": {
        "id": "l6qvepyeLA3T"
      }
    },
    {
      "cell_type": "code",
      "source": [
        "f = sns.relplot(x='valor_transacoes_12m', y='qtd_transacoes_12m', data=df, hue='default')\n",
        "_ = f.set(\n",
        "    title='Relação entre Valor e Quantidade de Transações no Último Ano', \n",
        "    xlabel='Valor das Transações no Último Ano', \n",
        "    ylabel='Quantidade das Transações no Último Ano'\n",
        "  )\n",
        "f.get_figure().savefig(f\"{argv[1]}.png\")"
      ],
      "metadata": {
        "colab": {
          "base_uri": "https://localhost:8080/",
          "height": 529
        },
        "id": "DKigRWO0K_9V",
        "outputId": "c87bcf24-1e6c-41ae-d8df-12183fa89830"
      },
      "execution_count": null,
      "outputs": [
        {
          "output_type": "display_data",
          "data": {
            "text/plain": [
              "<Figure size 560.236x500 with 1 Axes>"
            ],
            "image/png": "[encoded data removed]"
          },
          "metadata": {}
        }
      ]
    },
    {
      "cell_type": "markdown",
      "source": [
        "# **5. INSIGHTS**\n",
        "\n",
        "---\n",
        "\n"
      ],
      "metadata": {
        "id": "vpuOTcY_MMQL"
      }
    },
    {
      "cell_type": "markdown",
      "source": [
        "A partir da análise dos dados e da visualização dos mesmos, foi possível gerar alguns insights e considerações que nos ajudam a responder a pergunta: **Por que clientes deixam de honrar com suas dívidas junto ao banco?**.\n",
        "\n",
        "\n",
        "**1**  O fato de o número de inadimplentes ser menor que o de adimplentes é algo positivo para a instituição financeira.Isto indica que o banco pode continuar a fornecer crédito e que a maioria de seus correntistas honrará á dívida.\n",
        "\n",
        "**2** Interessante observar que os meses de relacionamento com o banco tem uma variação entre 28% e 42%, o que indica que uma quantidade significativa de correntistas inadimplentes tem uma relação de até 4 anos com o banco. Os dados parecem apontar para uma banco jovem e que tem atraído, em alguma medida, a atenção de clientes.\n",
        "\n",
        "**3** As variáveis escolaridade, estado civil, salario anual e tipo de cartao apresentam pouca ou nenhum relevancia no comportamento inadimplente dos correntistas do banco. Com todas elas apresentando valores muito superiores para a classe de adimplentes.\n",
        "\n",
        "**4** A variável Quantidade de transações nos últimos 12 meses, como observado no gráfico, sugere que a inadimplencia ocorre dentro de 20 até 60 transações. O pico do gráfico de inadimplencia não acompanha a tendência orgânica dos dados. Por sua vez, isto sugere que o banco precisa atentar-se para clientes com baixas transações ao longo de 12 meses\n",
        "\n",
        "**5** A variável Valor das Transações nos Últimos 12 Meses sugere que a inadimplencia ocorre em transações de valores entre 0 e 5000. O que pode sugerir uma atenção maior para clientes que realizam este tipo de transaçao ao longo do ano.\n",
        "\n",
        "**6** De acordo com gráfico de pontos, onde cruzamos ambas variáveis e 0 refere-se a adimplencia e 1 a inadimplência, é possível identificar 4 principais agrupamentos:\n",
        "1. O primeiro grupo é composto exclusivamente por adimplentes e se localiza na interseção entre os valores mais altos e as maiores quantidades. Ao que tudo indica, estes clientes parecem não ter problemas para honrar com suas dívidas. Portanto, é sempre possível garantir que uma eventual solicitação de aumento seja atendida de maneira mais tranquila e sem tantas análises.\n",
        "2. O segundo grupo se localiza mais ao centro do gráfico. Na interseção entre 80 transações e 7500 em valor. Este grupo parece ser composto majoritariamente por clientes que honram com suas dívidas ao longo dos anos. Mas é possível observar uma diferença. ACima de 80 transações concentram-se os clientes com perfil adimplente. Já abaixo de 80 transações, o perfil de inadimplencia aponta para a hipótese que, quanto menor a quantidade das transações, ainda que de um mesmo valor, menor a probabilidade de adimplencia, seriam necessários mais estudos para investigar melhor este perfil da interseção 80x7500.\n",
        "3. Um terceiro grupo seria composto também por adimplentes e inadimplentes. há uma variação maior em quantidade e valor, mas eles estão abaixo de 80 e abaixo de 6000 respectivamente. O gráfico sugere que este grupo é o maior de todos e concentra a maior quantidade de clientes do banco, portanto, requer uma atenção mais profunda. Mas importante ressaltar a concentração de inadimplentes num valor inferior a 4500.\n",
        "4. O quarto grupo seria um subgrupo do 3. Isto por que ele compõe a massa de inadimplencia e adimplencia mas se diferencia pela concentração de inadimplentes com poucas transações e com valores inferiores. Como medida para garantir que o crédito seja concedido a estes clientes, seria interessante o reforço de política que demonstrem a necessidade de auemntar o relacionamento com o banco em termos de transações ao longo do ano. Ou mesmo oferecer linhas de crédito mais restritas e com possibilidade de aumento a depender da profundidade do relacionamento do cliente com o banco."
      ],
      "metadata": {
        "id": "wKVlj-EgMag6"
      }
    }
  ]
}